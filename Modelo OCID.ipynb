{
 "cells": [
  {
   "cell_type": "markdown",
   "metadata": {
    "application/vnd.databricks.v1+cell": {
     "cellMetadata": {
      "byteLimit": 2048000,
      "rowLimit": 10000
     },
     "inputWidgets": {},
     "nuid": "a2c8955e-0c3e-4c22-a072-51a0154b41af",
     "showTitle": false,
     "tableResultSettingsMap": {},
     "title": ""
    }
   },
   "source": [
    "### Fuentes OCID"
   ]
  },
  {
   "cell_type": "code",
   "execution_count": 0,
   "metadata": {
    "application/vnd.databricks.v1+cell": {
     "cellMetadata": {
      "byteLimit": 2048000,
      "implicitDf": true,
      "rowLimit": 10000
     },
     "inputWidgets": {},
     "nuid": "996a7898-427b-41ff-9087-1d837318f85c",
     "showTitle": true,
     "tableResultSettingsMap": {},
     "title": "Planning"
    }
   },
   "outputs": [],
   "source": [
    "%sql\n",
    "select count(distinct ocid) N\n",
    "from planning_hist\n",
    "where budget_amount is null\n",
    "\n",
    "\n",
    "select ocid,count(*) N\n",
    "from planning_hist\n",
    "group by ocid\n",
    "order by count(*) desc\n",
    "\n",
    "select *\n",
    "from planning_hist\n",
    "where 1=1\n",
    "and ocid ='ocds-5wno2w-LS-GADMLA-2021-001-91040'\n",
    "--and ocid='ocds-5wno2w-R2-SIE-MIMG-098-2021-44856'"
   ]
  },
  {
   "cell_type": "code",
   "execution_count": 0,
   "metadata": {
    "application/vnd.databricks.v1+cell": {
     "cellMetadata": {
      "byteLimit": 2048000,
      "implicitDf": true,
      "rowLimit": 10000
     },
     "inputWidgets": {},
     "nuid": "b944c905-a504-4a30-b089-87a8b362aefd",
     "showTitle": true,
     "tableResultSettingsMap": {},
     "title": "Tender"
    }
   },
   "outputs": [],
   "source": [
    "%sql\n",
    "select anio,count(*)\n",
    "from tender_hist\n",
    "group by anio\n",
    "\n",
    "\n",
    "select ocid,count(*),sum(numberOfTenderers) tends\n",
    "from tender_hist\n",
    "group by ocid \n",
    "order by count(*) desc\n",
    "\n",
    "\n",
    "select *\n",
    "from tender_hist\n",
    "where 1=1\n",
    "--and ocid ='ocds-5wno2w-LS-GADMLA-2021-001-91040'\n",
    "--and ocid='ocds-5wno2w-R2-SIE-MIMG-098-2021-44856'\n",
    "and tenderPeriod_durationInDays is null "
   ]
  },
  {
   "cell_type": "code",
   "execution_count": 0,
   "metadata": {
    "application/vnd.databricks.v1+cell": {
     "cellMetadata": {
      "byteLimit": 2048000,
      "implicitDf": true,
      "rowLimit": 10000
     },
     "inputWidgets": {},
     "nuid": "cdbdf8bd-7faa-4697-91bf-d4ed8d02e952",
     "showTitle": true,
     "tableResultSettingsMap": {},
     "title": "Award"
    }
   },
   "outputs": [],
   "source": [
    "%sql\n",
    "select ocid,count(*),\n",
    "count(distinct description) descripts,\n",
    "max(date),min(date),\n",
    "date_diff(\n",
    "  cast(max(date) as timestamp),\n",
    "  cast(min(date) as timestamp)\n",
    "  ),\n",
    "count(distinct contractPeriod_durationInDays),\n",
    "count(distinct status) statuses\n",
    "from award_hist\n",
    "group by ocid\n",
    "order by count(*) desc\n",
    "\n",
    "\n",
    "select *\n",
    "from award_hist\n",
    "where 1=1\n",
    "--and ocid ='ocds-5wno2w-LS-GADMLA-2021-001-91040'\n",
    "and ocid='ocds-5wno2w-CDC-EERSSA-064-2020-3240'"
   ]
  },
  {
   "cell_type": "code",
   "execution_count": 0,
   "metadata": {
    "application/vnd.databricks.v1+cell": {
     "cellMetadata": {
      "byteLimit": 2048000,
      "implicitDf": true,
      "rowLimit": 10000
     },
     "inputWidgets": {},
     "nuid": "386e32b6-8be6-42ff-866b-55795b10a1de",
     "showTitle": true,
     "tableResultSettingsMap": {},
     "title": "Contract"
    }
   },
   "outputs": [],
   "source": [
    "%sql\n",
    "select count(distinct ocid) N\n",
    "from contract_hist\n",
    "group by ocid\n",
    "order by count(*) desc\n",
    "\n",
    "\n",
    "\n",
    "select *\n",
    "from contract_hist\n",
    "where 1=1\n",
    "--and ocid ='ocds-5wno2w-LS-GADMLA-2021-001-91040'\n",
    "and ocid='ocds-5wno2w-CDC-EERSSA-064-2020-3240'"
   ]
  },
  {
   "cell_type": "markdown",
   "metadata": {
    "application/vnd.databricks.v1+cell": {
     "cellMetadata": {
      "byteLimit": 2048000,
      "rowLimit": 10000
     },
     "inputWidgets": {},
     "nuid": "9e3be146-73d1-4bf1-9b0d-3f78843f79b2",
     "showTitle": false,
     "tableResultSettingsMap": {},
     "title": ""
    }
   },
   "source": [
    "### Integración"
   ]
  },
  {
   "cell_type": "code",
   "execution_count": 0,
   "metadata": {
    "application/vnd.databricks.v1+cell": {
     "cellMetadata": {
      "byteLimit": 2048000,
      "rowLimit": 10000
     },
     "inputWidgets": {},
     "nuid": "719f9af8-b323-422f-badc-b2e70d3d320f",
     "showTitle": true,
     "tableResultSettingsMap": {},
     "title": "analisis 1"
    }
   },
   "outputs": [],
   "source": [
    "select *\n",
    "from planning_hist\n",
    "where ocid like '%ocds-5wno2w-CE-20200001758187%'\n",
    "\n",
    "\n",
    "select count(distinct ocid)\n",
    "from planning_hist;\n",
    "\n",
    "select count(distinct ocid)\n",
    "from tender_hist;\n",
    "\n",
    "\n",
    "select *\n",
    "from tender_hist;\n",
    "where \n",
    "\n",
    "select count(distinct ocid)\n",
    "from award_hist;\n",
    "\n",
    "select count(distinct ocid)\n",
    "from contract_hist;\n",
    "\n",
    "select *\n",
    "from planning_hist pl\n",
    "full outer join contract_hist ct \n",
    "on pl.ocid=ct.ocid and pl.anio=ct.anio\n",
    "where pl.ocid is null \n",
    "\n",
    "s\n"
   ]
  },
  {
   "cell_type": "code",
   "execution_count": 0,
   "metadata": {
    "application/vnd.databricks.v1+cell": {
     "cellMetadata": {
      "byteLimit": 2048000,
      "rowLimit": 10000
     },
     "inputWidgets": {},
     "nuid": "2841e290-06a1-49dc-91a9-cd3115600c2d",
     "showTitle": true,
     "tableResultSettingsMap": {},
     "title": "Fuentes Ind."
    }
   },
   "outputs": [],
   "source": [
    "\n",
    "create or replace temporary view fuente_planning as\n",
    "select *\n",
    "from planning_hist\n",
    "--where anio=2021\n",
    ";\n",
    "\n",
    "\n",
    "\n",
    "create or replace temporary view fuente_tender as\n",
    "select *,\n",
    "case \n",
    "  when tenderPeriod_endDate is null then enquiryPeriod_endDate \n",
    "  else null end as tenderPeriod_endDate2,\n",
    "case \n",
    "  when mainProcurementCategory is null and procurementMethodDetails like '%SUMINISTROS DE%' then 'goods'\n",
    "  when mainProcurementCategory is null and procurementMethodDetails like '%ADQUISICION DE%' then 'goods'\n",
    "  when mainProcurementCategory is null and procurementMethodDetails like '%ADQUISICIÓN DE%' then 'goods'\n",
    "  when mainProcurementCategory is null and procurementMethodDetails like '%adquisición de%' then 'goods'\n",
    "  when mainProcurementCategory is null and procurementMethodDetails like '%PRODUCTOS DE%' then 'goods'\n",
    "  when mainProcurementCategory is null and procurementMethodDetails like '%PROVISIÓN DE%' then 'goods'\n",
    "  when mainProcurementCategory is null and procurementMethodDetails like '%PROVISION DE%' then 'goods'\n",
    "  when mainProcurementCategory is null and procurementMethodDetails like '%SERVICIO DE%' then 'services'\n",
    "  when mainProcurementCategory is null and procurementMethodDetails like '%SERVICIOS DE%' then 'services'\n",
    "  when mainProcurementCategory is null and procurementMethodDetails like '%SERVICIO INTEGRAL%' then 'services'\n",
    "  when mainProcurementCategory is null and procurementMethodDetails like '%PRODUCCION DE%' then 'works'\n",
    "  else mainProcurementCategory\n",
    "end as mainProcurementCategory2,\n",
    "case \n",
    "  when hasEnquiries is null and procurementMethod='direct' then 0\n",
    "  when hasEnquiries is null and procurementMethod='selective' then 0\n",
    "  else hasEnquiries\n",
    "end as hasEnquiries2\n",
    "from tender_hist \n",
    "--where anio=2021\n",
    ";\n",
    "\n",
    "\n",
    "\n",
    "\n",
    "create or replace temporary view fuente_award as\n",
    "select \n",
    "coalesce(aw.ocid,max(ct.ocid)) ocid,\n",
    "max(aw.description) description_award,\n",
    "max(aw.status) status_award,\n",
    "max(aw.date) date_award,\n",
    "sum(aw.amount) total_amount_award,\n",
    "coalesce(\n",
    "  max(aw.contractPeriod_startDate),\n",
    "  max(ct.contractPeriod_startDate)) contractPeriod_startDate,\n",
    "coalesce(\n",
    "  max(aw.contractPeriod_endDate),\n",
    "  max(ct.contractPeriod_endDate)) contractPeriod_endDate,\n",
    "coalesce(\n",
    "  avg(aw.contractPeriod_durationInDays),\n",
    "  avg(ct.contractPeriod_durationInDays)) contractPeriod_durationInDays,\n",
    "coalesce(max(aw.anio),max(ct.anio)) anio,\n",
    "count(*) num_adjudicaciones,\n",
    "max(ct.status) status_contract,\n",
    "coalesce(sum(ct.amount),sum(aw.amount)) total_amount_contract,\n",
    "max(dateSigned) dateSigned\n",
    "from award_hist aw\n",
    "full outer join contract_hist ct\n",
    "on aw.ocid=ct.ocid and aw.id=ct.awardID and aw.anio=ct.anio\n",
    "where 1=1\n",
    "and ct.ocid is not null\n",
    "--where aw.anio=2021\n",
    "group by aw.ocid;\n"
   ]
  },
  {
   "cell_type": "code",
   "execution_count": 0,
   "metadata": {
    "application/vnd.databricks.v1+cell": {
     "cellMetadata": {
      "byteLimit": 2048000,
      "rowLimit": 10000
     },
     "inputWidgets": {},
     "nuid": "cf6696cf-c2bd-4314-8cab-6c49e8bccb7f",
     "showTitle": true,
     "tableResultSettingsMap": {},
     "title": "analisis 2"
    }
   },
   "outputs": [],
   "source": [
    "\n",
    "select *\n",
    "from fuente_award\n",
    "where ocid='ocds-5wno2w-LS-GADMLA-2021-001-91040'\n",
    "\n",
    "\n",
    "select count(distinct ocid)\n",
    "from fuente_award\n",
    "\n",
    "select status_award,count(*)\n",
    "from fuente_award\n",
    "group by status_award"
   ]
  },
  {
   "cell_type": "code",
   "execution_count": 0,
   "metadata": {
    "application/vnd.databricks.v1+cell": {
     "cellMetadata": {
      "byteLimit": 2048000,
      "rowLimit": 10000
     },
     "inputWidgets": {},
     "nuid": "b367733b-321b-4aaf-b042-751f2cfa5744",
     "showTitle": true,
     "tableResultSettingsMap": {},
     "title": "Integración Total"
    }
   },
   "outputs": [],
   "source": [
    "create or replace temporary view procesos_integrados as\n",
    "select \n",
    "coalesce(coalesce(pl.ocid,td.ocid),aw.ocid) ocid,\n",
    "coalesce(pl.anio,aw.anio) anio,\n",
    "coalesce(pl.rationale,td.description) rationale,\n",
    "coalesce(pl.budget_amount,td.value_amount) budget_amount,\n",
    "td.status,\n",
    "td.procuringEntity_id,\n",
    "td.procurementMethod,td.procurementMethodDetails,\n",
    "td.mainProcurementCategory2 mainProcurementCategory,\n",
    "td.awardCriteria,\n",
    "td.tenderPeriod_startDate,\n",
    "td.tenderPeriod_endDate2 tenderPeriod_endDate,\n",
    "td.tenderPeriod_maxExtentDate,\n",
    "coalesce(\n",
    "  td.tenderPeriod_durationInDays,\n",
    "  datediff(td.tenderPeriod_endDate2,td.tenderPeriod_startDate)\n",
    ") tenderPeriod_durationInDays,\n",
    "td.enquiryPeriod_startDate,\n",
    "td.enquiryPeriod_endDate,\n",
    "td.enquiryPeriod_maxExtentDate,\n",
    "coalesce(\n",
    "  td.enquiryPeriod_durationInDays,\n",
    "  datediff(td.enquiryPeriod_endDate,td.enquiryPeriod_startDate)\n",
    "  ) enquiryPeriod_durationInDays,\n",
    "td.hasEnquiries2 hasEnquiries,\n",
    "td.eligibilityCriteria,\n",
    "td.awardPeriod_startDate,\n",
    "td.awardPeriod_endDate,td.awardPeriod_maxExtentDate,\n",
    "td.awardPeriod_durationInDays,td.numberOfTenderers,\n",
    "aw.description_award,\n",
    "aw.status_award,\n",
    "aw.date_award,aw.total_amount_award,\n",
    "aw.contractPeriod_startDate,\n",
    "aw.contractPeriod_endDate,\n",
    "aw.contractPeriod_durationInDays,\n",
    "aw.num_adjudicaciones,\n",
    "aw.status_contract,\n",
    "aw.total_amount_contract,\n",
    "aw.dateSigned,\n",
    "case when pl.ocid is null then 1 else 0 end as en_planificacion\n",
    "from fuente_planning pl\n",
    "full outer join fuente_tender td\n",
    "on pl.ocid=td.ocid and pl.anio=td.anio\n",
    "full outer join fuente_award aw\n",
    "on td.ocid=aw.ocid and td.anio=aw.anio\n",
    "where 1=1\n",
    "and aw.ocid is not null\n",
    "--where pl.ocid ='ocds-5wno2w-LS-GADMLA-2021-001-91040'"
   ]
  },
  {
   "cell_type": "code",
   "execution_count": 0,
   "metadata": {
    "application/vnd.databricks.v1+cell": {
     "cellMetadata": {
      "byteLimit": 2048000,
      "rowLimit": 10000
     },
     "inputWidgets": {},
     "nuid": "d62c4635-467c-4356-919b-59bf7b4b9dd5",
     "showTitle": true,
     "tableResultSettingsMap": {},
     "title": "analisis 3"
    }
   },
   "outputs": [],
   "source": [
    "select \n",
    "tenderPeriod_startDate,\n",
    "tenderPeriod_endDate,\n",
    "--tenderPeriod_maxExtentDate, --es igual a tenderPeriod_endDate\n",
    "tenderPeriod_durationInDays,\n",
    "enquiryPeriod_startDate,\n",
    "enquiryPeriod_endDate,\n",
    "--enquiryPeriod_maxExtentDate, --es igual a enquiryPeriod_endDate\n",
    "enquiryPeriod_durationInDays,\n",
    "awardPeriod_startDate,\n",
    "awardPeriod_endDate,\n",
    "--awardPeriod_maxExtentDate, --es igual a awardPeriod_endDate\n",
    "awardPeriod_durationInDays,\n",
    "contractPeriod_startDate,\n",
    "contractPeriod_endDate,\n",
    "contractPeriod_durationInDays,\n",
    "status_contract,\n",
    "*\n",
    "from procesos_integrados\n",
    "--where ocid ='ocds-5wno2w-LS-GADMLA-2021-001-91040'\n",
    "--where budget_amount=value_amount is null\n",
    "--where rationale is null\n",
    "--where tenderPeriod_endDate is null\n",
    "where tenderPeriod_startDate is null\n",
    "\n",
    "select *\n",
    "from procesos_integrados\n",
    "where 1=1\n",
    "--and procurementMethod='direct'\n",
    "and procurementMethodDetails='Contratacion directa'\n",
    "\n",
    "\n",
    "select procurementMethod,count(*),\n",
    "sum(case when hasEnquiries is null then 1 else 0 end) a\n",
    "from procesos_integrados\n",
    "group by procurementMethod\n",
    "\n",
    "select distinct en_planificacion\n",
    "from procesos_integrados\n",
    "where 1=1\n",
    "--and ocid='ocds-5wno2w-LS-GADMLA-2021-001-91040'\n",
    "and awardCriteria  is null\n",
    "\n",
    "\n",
    "select tenderPeriod_durationInDays,count(*) N\n",
    "from procesos_integrados\n",
    "group by tenderPeriod_durationInDays\n",
    "\n",
    "select distinct awardPeriod_durationInDays\n",
    "from procesos_integrados\n",
    "where anio=2020\n",
    "--and procurementMethod='direct'\n",
    "and mainProcurementCategory='goods'"
   ]
  },
  {
   "cell_type": "markdown",
   "metadata": {
    "application/vnd.databricks.v1+cell": {
     "cellMetadata": {},
     "inputWidgets": {},
     "nuid": "b35ff356-12a0-4e00-a8a6-05060d89c0d6",
     "showTitle": false,
     "tableResultSettingsMap": {},
     "title": ""
    }
   },
   "source": [
    "### Limpieza"
   ]
  },
  {
   "cell_type": "code",
   "execution_count": 0,
   "metadata": {
    "application/vnd.databricks.v1+cell": {
     "cellMetadata": {
      "byteLimit": 2048000,
      "rowLimit": 10000
     },
     "inputWidgets": {},
     "nuid": "b2255a30-4020-49df-a5d2-c1a80bf617a7",
     "showTitle": true,
     "tableResultSettingsMap": {},
     "title": "Librerias"
    }
   },
   "outputs": [],
   "source": [
    "%python\n",
    "import pandas as pd\n",
    "import numpy as np\n",
    "import seaborn as sns\n",
    "import matplotlib.pyplot as plt\n",
    "\n",
    "from sklearn.impute import SimpleImputer\n",
    "from sklearn.model_selection import train_test_split\n",
    "from sklearn.ensemble import RandomForestRegressor\n",
    "from sklearn.preprocessing import OrdinalEncoder\n",
    "# Configurar Pandas para evitar notación científica\n",
    "pd.options.display.float_format = '{:,.2f}'.format  # Dos decimales, con separador de miles"
   ]
  },
  {
   "cell_type": "code",
   "execution_count": 0,
   "metadata": {
    "application/vnd.databricks.v1+cell": {
     "cellMetadata": {
      "byteLimit": 2048000,
      "rowLimit": 10000
     },
     "inputWidgets": {},
     "nuid": "e4f76910-a3fb-4876-a556-59efe105b7f3",
     "showTitle": true,
     "tableResultSettingsMap": {},
     "title": "Importar datos"
    }
   },
   "outputs": [],
   "source": [
    "%py\n",
    "\n",
    "df=spark.sql(\"select * from procesos_integrados\").toPandas()\n",
    "\n",
    "df.loc[df[\"description_award\"]=='nan',\"description_award\"]=np.nan"
   ]
  },
  {
   "cell_type": "code",
   "execution_count": 0,
   "metadata": {
    "application/vnd.databricks.v1+cell": {
     "cellMetadata": {
      "byteLimit": 2048000,
      "rowLimit": 10000
     },
     "inputWidgets": {},
     "nuid": "9da5a684-664b-48ed-b553-c8d17667cf05",
     "showTitle": false,
     "tableResultSettingsMap": {},
     "title": ""
    }
   },
   "outputs": [],
   "source": [
    "%python\n",
    "print(df.columns)\n",
    "print(df.shape)\n"
   ]
  },
  {
   "cell_type": "code",
   "execution_count": 0,
   "metadata": {
    "application/vnd.databricks.v1+cell": {
     "cellMetadata": {
      "byteLimit": 2048000,
      "rowLimit": 10000
     },
     "inputWidgets": {},
     "nuid": "b5a5d876-43ad-4c9d-ae02-bde67a893883",
     "showTitle": true,
     "tableResultSettingsMap": {},
     "title": "Describir datos"
    }
   },
   "outputs": [],
   "source": [
    "%python\n",
    "df[[\"ocid\",\"rationale\",\"budget_amount\",\"status\",\"procurementMethod\",\n",
    "    \"procurementMethodDetails\",\"awardCriteria\",\"total_amount_award\",\"num_adjudicaciones\"]].describe(include='all')\n"
   ]
  },
  {
   "cell_type": "code",
   "execution_count": 0,
   "metadata": {
    "application/vnd.databricks.v1+cell": {
     "cellMetadata": {
      "byteLimit": 2048000,
      "rowLimit": 10000
     },
     "inputWidgets": {},
     "nuid": "30e97eaa-a2aa-4826-9e6c-924344e6445f",
     "showTitle": false,
     "tableResultSettingsMap": {},
     "title": ""
    }
   },
   "outputs": [],
   "source": [
    "%python\n",
    "df.dtypes"
   ]
  },
  {
   "cell_type": "code",
   "execution_count": 0,
   "metadata": {
    "application/vnd.databricks.v1+cell": {
     "cellMetadata": {
      "byteLimit": 2048000,
      "rowLimit": 10000
     },
     "inputWidgets": {},
     "nuid": "df427d41-17a7-4b68-9413-7e6959c11f47",
     "showTitle": true,
     "tableResultSettingsMap": {},
     "title": "Validar nulos por columna"
    }
   },
   "outputs": [],
   "source": [
    "%python\n",
    "# Análisis de valores nulos\n",
    "def analizar_nulos(df):\n",
    "    print(\"Resumen de valores nulos:\")\n",
    "    nulos = df.isnull().sum()\n",
    "    porcentaje = (nulos / len(df)) * 100\n",
    "    resumen = pd.DataFrame({'Total Nulos': nulos, 'Porcentaje (%)': porcentaje})\n",
    "    print(resumen)\n",
    "    \n",
    "    # Visualizar con heatmap\n",
    "    # plt.figure(figsize=(10,6))\n",
    "    # sns.heatmap(df.isnull(), cmap='viridis', cbar=False, yticklabels=False)\n",
    "    # plt.title(\"Mapa de valores nulos\")\n",
    "    # plt.show()\n",
    "\n",
    "# Llamar a la función\n",
    "analizar_nulos(df)"
   ]
  },
  {
   "cell_type": "code",
   "execution_count": 0,
   "metadata": {
    "application/vnd.databricks.v1+cell": {
     "cellMetadata": {
      "byteLimit": 2048000,
      "rowLimit": 10000
     },
     "inputWidgets": {},
     "nuid": "246da18c-446f-4ab8-b6e2-c598052ea452",
     "showTitle": true,
     "tableResultSettingsMap": {},
     "title": "Validar nulos por fila"
    }
   },
   "outputs": [],
   "source": [
    "%python\n",
    "# Calcular el número de valores nulos por fila\n",
    "df['Nulos por Fila'] = df.isnull().sum(axis=1)\n",
    "\n",
    "# Calcular el porcentaje de columnas faltantes por fila\n",
    "df['% Nulos'] = (df['Nulos por Fila'] / df.shape[1]) * 100\n",
    "\n",
    "# Ordenar el DataFrame por el porcentaje de nulos en orden descendente\n",
    "df_ordenado = df.sort_values(by='% Nulos', ascending=False)\n",
    "\n",
    "# Mostrar el resultado\n",
    "print(df_ordenado[['Nulos por Fila', '% Nulos']])"
   ]
  },
  {
   "cell_type": "code",
   "execution_count": 0,
   "metadata": {
    "application/vnd.databricks.v1+cell": {
     "cellMetadata": {
      "byteLimit": 2048000,
      "rowLimit": 10000
     },
     "inputWidgets": {},
     "nuid": "790da222-1bf7-48bd-800b-9de07badca26",
     "showTitle": false,
     "tableResultSettingsMap": {},
     "title": ""
    }
   },
   "outputs": [],
   "source": [
    "%python\n",
    "(df_ordenado[\"Nulos por Fila\"]<17).sum()"
   ]
  },
  {
   "cell_type": "markdown",
   "metadata": {
    "application/vnd.databricks.v1+cell": {
     "cellMetadata": {},
     "inputWidgets": {},
     "nuid": "a9eddbe2-3b7b-4a11-ae9a-1d033189e7d7",
     "showTitle": false,
     "tableResultSettingsMap": {},
     "title": ""
    }
   },
   "source": [
    "#### Imputar datos"
   ]
  },
  {
   "cell_type": "code",
   "execution_count": 0,
   "metadata": {
    "application/vnd.databricks.v1+cell": {
     "cellMetadata": {
      "byteLimit": 2048000,
      "rowLimit": 10000
     },
     "inputWidgets": {},
     "nuid": "10833ade-20e0-4da6-bdec-e2e24574f2c9",
     "showTitle": true,
     "tableResultSettingsMap": {},
     "title": "Calculo fechas"
    }
   },
   "outputs": [],
   "source": [
    "%python\n",
    "for col in ['tenderPeriod_startDate', 'tenderPeriod_endDate', \n",
    "            'enquiryPeriod_startDate', 'enquiryPeriod_endDate',\n",
    "            'awardPeriod_startDate', 'awardPeriod_endDate',\n",
    "            'contractPeriod_startDate','contractPeriod_endDate']:\n",
    "    df[col] = pd.to_datetime(df[col], errors='coerce')\n",
    "\n",
    "\n",
    "# Paso 1: Calcular la duración donde sea posible\n",
    "df['tenderPeriod_durationInDays'] = np.where(\n",
    "    df['tenderPeriod_durationInDays'].isna() & df['tenderPeriod_startDate'].notna() & df['tenderPeriod_endDate'].notna(),\n",
    "    (df['tenderPeriod_endDate'] - df['tenderPeriod_startDate']).dt.days,\n",
    "    df['tenderPeriod_durationInDays']\n",
    ")\n",
    "\n",
    "\n",
    "# Paso 1: Calcular la duración donde sea posible\n",
    "df['enquiryPeriod_durationInDays'] = np.where(\n",
    "    df['tenderPeriod_durationInDays'].isna() & df['enquiryPeriod_startDate'].notna() & df['enquiryPeriod_endDate'].notna(),\n",
    "    (df['enquiryPeriod_endDate'] - df['enquiryPeriod_startDate']).dt.days,\n",
    "    df['enquiryPeriod_durationInDays']\n",
    ")\n",
    "\n",
    "\n",
    "# Paso 1: Calcular la duración donde sea posible\n",
    "df['awardPeriod_durationInDays'] = np.where(\n",
    "    df['tenderPeriod_durationInDays'].isna() & df['awardPeriod_startDate'].notna() & df['awardPeriod_endDate'].notna(),\n",
    "    (df['awardPeriod_endDate'] - df['awardPeriod_startDate']).dt.days,\n",
    "    df['awardPeriod_durationInDays']\n",
    ")\n",
    "\n",
    "\n",
    "# Paso 1: Calcular la duración donde sea posible\n",
    "df['contractPeriod_durationInDays'] = np.where(\n",
    "    df['tenderPeriod_durationInDays'].isna() & df['contractPeriod_startDate'].notna() & df['contractPeriod_endDate'].notna(),\n",
    "    (df['contractPeriod_endDate'] - df['contractPeriod_startDate']).dt.days,\n",
    "    df['contractPeriod_durationInDays']\n",
    ")"
   ]
  },
  {
   "cell_type": "code",
   "execution_count": 0,
   "metadata": {
    "application/vnd.databricks.v1+cell": {
     "cellMetadata": {
      "byteLimit": 2048000,
      "rowLimit": 10000
     },
     "inputWidgets": {},
     "nuid": "992c2db7-fd8c-4bc2-8666-971c811b974b",
     "showTitle": true,
     "tableResultSettingsMap": {},
     "title": "Imputar por relaciones de fecha"
    }
   },
   "outputs": [],
   "source": [
    "%python\n",
    "\n",
    "# Imputación basada en relaciones entre períodos (mediana agrupada)\n",
    "grouped_median = df.groupby([\n",
    "    'anio',\n",
    "    'status',\n",
    "    'mainProcurementCategory'\n",
    "])[['tenderPeriod_durationInDays', 'enquiryPeriod_durationInDays', 'awardPeriod_durationInDays','contractPeriod_durationInDays']].median()\n",
    "\n",
    "# Reseteamos el índice para usar merge en lugar de iterrows\n",
    "df_grupos = grouped_median.reset_index()\n",
    "\n",
    "# Optimización 1: Usamos merge en lugar de iterrows\n",
    "df = df.merge(df_grupos, on=['anio', 'status', 'mainProcurementCategory'], suffixes=('', '_median'), how='left')\n",
    "\n",
    "# Optimización 2: Reemplazamos valores NaN con los valores medianos escalados, usando operaciones vectorizadas\n",
    "df['tenderPeriod_durationInDays'] = np.where(\n",
    "    df['tenderPeriod_durationInDays'].isna(),\n",
    "    np.ceil(df['tenderPeriod_durationInDays_median']),\n",
    "    df['awardPeriod_durationInDays']\n",
    ")\n",
    "\n",
    "\n",
    "df['enquiryPeriod_durationInDays'] = np.where(\n",
    "    df['enquiryPeriod_durationInDays'].isna(),\n",
    "    np.ceil(df['enquiryPeriod_durationInDays_median'] * 0.2),\n",
    "    df['enquiryPeriod_durationInDays']\n",
    ")\n",
    "\n",
    "df['awardPeriod_durationInDays'] = np.where(\n",
    "    df['awardPeriod_durationInDays'].isna(),\n",
    "    np.ceil(df['enquiryPeriod_durationInDays_median'] * 0.3),\n",
    "    df['awardPeriod_durationInDays']\n",
    ")\n",
    "\n",
    "\n",
    "df['contractPeriod_durationInDays'] = np.where(\n",
    "    df['awardPeriod_durationInDays'].isna(),\n",
    "    np.ceil(df['contractPeriod_durationInDays_median']),\n",
    "    df['contractPeriod_durationInDays']\n",
    ")\n",
    "\n",
    "\n",
    "# Eliminamos las columnas auxiliares usadas en merge\n",
    "df.drop(columns=['tenderPeriod_durationInDays_median', 'enquiryPeriod_durationInDays_median', 'awardPeriod_durationInDays_median','contractPeriod_durationInDays_median'], inplace=True)\n"
   ]
  },
  {
   "cell_type": "code",
   "execution_count": 0,
   "metadata": {
    "application/vnd.databricks.v1+cell": {
     "cellMetadata": {
      "byteLimit": 2048000,
      "rowLimit": 10000
     },
     "inputWidgets": {},
     "nuid": "892834d5-0bcb-498b-b00f-510616fa66ee",
     "showTitle": true,
     "tableResultSettingsMap": {},
     "title": "Imputar budget"
    }
   },
   "outputs": [],
   "source": [
    "%python\n",
    "\n",
    "#imputación basada en relaciones entre períodos (mediana agrupada)\n",
    "grouped_median_budget = df.groupby([\n",
    "    'anio',\n",
    "    'status',\n",
    "    'mainProcurementCategory'\n",
    "])[['budget_amount']].median()\n",
    "\n",
    "# Reseteamos el índice para usar merge en lugar de iterrows\n",
    "df_grupos_budget = grouped_median_budget.reset_index()\n",
    "\n",
    "# Optimización 1: Usamos merge en lugar de iterrows\n",
    "df = df.merge(df_grupos_budget, on=['anio', 'status', 'mainProcurementCategory'], suffixes=('', '_median'), how='left')\n",
    "\n",
    "# Optimización 2: Reemplazamos valores NaN con los valores medianos escalados, usando operaciones vectorizadas\n",
    "df['budget_amount'] = np.where(\n",
    "    df['budget_amount'].isna(),\n",
    "    np.ceil(df['budget_amount_median']),\n",
    "    df['budget_amount']\n",
    ")\n",
    "\n",
    "\n",
    "# Eliminamos las columnas auxiliares usadas en merge\n",
    "df.drop(columns=['budget_amount_median'], inplace=True)"
   ]
  },
  {
   "cell_type": "code",
   "execution_count": 0,
   "metadata": {
    "application/vnd.databricks.v1+cell": {
     "cellMetadata": {
      "byteLimit": 2048000,
      "rowLimit": 10000
     },
     "inputWidgets": {},
     "nuid": "44141cf5-bc5f-4dbd-939f-45b4b3db8b38",
     "showTitle": false,
     "tableResultSettingsMap": {},
     "title": ""
    }
   },
   "outputs": [],
   "source": [
    "%python\n",
    "display(df)"
   ]
  },
  {
   "cell_type": "markdown",
   "metadata": {
    "application/vnd.databricks.v1+cell": {
     "cellMetadata": {
      "byteLimit": 2048000,
      "rowLimit": 10000
     },
     "inputWidgets": {},
     "nuid": "56aeb06c-0b84-4ce9-9b35-52b4feee5db1",
     "showTitle": false,
     "tableResultSettingsMap": {},
     "title": ""
    }
   },
   "source": [
    "### Variables Texto "
   ]
  },
  {
   "cell_type": "code",
   "execution_count": 0,
   "metadata": {
    "application/vnd.databricks.v1+cell": {
     "cellMetadata": {
      "byteLimit": 2048000,
      "rowLimit": 10000
     },
     "inputWidgets": {},
     "nuid": "883be0d7-c180-4f9d-a32c-79676e70bd93",
     "showTitle": true,
     "tableResultSettingsMap": {},
     "title": "Librerias"
    }
   },
   "outputs": [],
   "source": [
    "%python\n",
    "!pip install spacy\n",
    "\n",
    "import re\n",
    "import spacy\n",
    "import spacy.cli\n",
    "from scipy import sparse\n",
    "spacy.cli.download(\"es_core_news_sm\")\n",
    "nlp = spacy.load(\"es_core_news_sm\")  # Modelo en español"
   ]
  },
  {
   "cell_type": "code",
   "execution_count": 0,
   "metadata": {
    "application/vnd.databricks.v1+cell": {
     "cellMetadata": {
      "byteLimit": 2048000,
      "rowLimit": 10000
     },
     "inputWidgets": {},
     "nuid": "2accdc78-996d-45c9-b28a-80a161cd55aa",
     "showTitle": true,
     "tableResultSettingsMap": {},
     "title": "Funcion limpieza textos"
    }
   },
   "outputs": [],
   "source": [
    "%python\n",
    "def limpiar_texto(texto):\n",
    "    if pd.isna(texto): return \"\"\n",
    "    texto = texto.lower()\n",
    "    texto = re.sub(r'\\d+', '', texto)  # Eliminar números\n",
    "    texto = re.sub(r'[^\\w\\s]', '', texto)  # Eliminar puntuación\n",
    "    doc = nlp(texto)\n",
    "    texto = \" \".join([token.lemma_ for token in doc if not token.is_stop])  # Lematización sin stopwords\n",
    "    return texto"
   ]
  },
  {
   "cell_type": "code",
   "execution_count": 0,
   "metadata": {
    "application/vnd.databricks.v1+cell": {
     "cellMetadata": {
      "byteLimit": 2048000,
      "rowLimit": 10000
     },
     "inputWidgets": {},
     "nuid": "5407eace-b162-4f8d-8403-3872eb11e59f",
     "showTitle": true,
     "tableResultSettingsMap": {},
     "title": "Limpiar texto"
    }
   },
   "outputs": [],
   "source": [
    "%python\n",
    "#se limpia el texto de la columna de justificacion de adjudicacion\n",
    "\n",
    "justificacion_plan=pd.DataFrame(df['rationale'].unique(),columns=[\"rationale\"])\n",
    "justificacion_plan['rationale_clean'] = justificacion_plan['rationale'].apply(limpiar_texto)\n",
    "display(justificacion_plan)\n"
   ]
  },
  {
   "cell_type": "code",
   "execution_count": 0,
   "metadata": {
    "application/vnd.databricks.v1+cell": {
     "cellMetadata": {
      "byteLimit": 2048000,
      "rowLimit": 10000
     },
     "inputWidgets": {},
     "nuid": "060caa1a-c052-43d8-8d21-36f4bbac5a2e",
     "showTitle": false,
     "tableResultSettingsMap": {},
     "title": ""
    }
   },
   "outputs": [],
   "source": [
    "%python\n",
    "df=pd.merge(df,justificacion_plan,left_on='rationale',right_on='rationale')\n"
   ]
  },
  {
   "cell_type": "code",
   "execution_count": 0,
   "metadata": {
    "application/vnd.databricks.v1+cell": {
     "cellMetadata": {
      "byteLimit": 2048000,
      "rowLimit": 10000
     },
     "inputWidgets": {},
     "nuid": "a6fb5fc7-a724-4efc-ade1-24e618de1c2a",
     "showTitle": true,
     "tableResultSettingsMap": {},
     "title": "Guardar DF"
    }
   },
   "outputs": [],
   "source": [
    "%python\n",
    "#guardar como parquet\n",
    "\n",
    "import pyarrow\n",
    "\n",
    "df.to_parquet('/dbfs/mnt/aci-layer1/MODELOS_ANALITICOS/ocid_data_total.parquet', index=False)"
   ]
  },
  {
   "cell_type": "code",
   "execution_count": 0,
   "metadata": {
    "application/vnd.databricks.v1+cell": {
     "cellMetadata": {
      "byteLimit": 2048000,
      "rowLimit": 10000
     },
     "inputWidgets": {},
     "nuid": "a6a5d07b-644d-49fd-b465-c9d340b52fb9",
     "showTitle": false,
     "tableResultSettingsMap": {},
     "title": ""
    }
   },
   "outputs": [],
   "source": [
    "%run ../../../GENERICS/PY_DataLakeFunctions"
   ]
  },
  {
   "cell_type": "code",
   "execution_count": 0,
   "metadata": {
    "application/vnd.databricks.v1+cell": {
     "cellMetadata": {
      "byteLimit": 2048000,
      "rowLimit": 10000
     },
     "inputWidgets": {},
     "nuid": "ba050ec9-04a5-4f7a-b2ef-b892cb04b638",
     "showTitle": false,
     "tableResultSettingsMap": {},
     "title": ""
    }
   },
   "outputs": [],
   "source": [
    "%python\n",
    "#cargar df nuevamente desde parquet guardado \n",
    "#df=spark.read.parquet('/mnt/aci-layer1/MODELOS_ANALITICOS/ocid_data_total.parquet').toPandas()"
   ]
  },
  {
   "cell_type": "code",
   "execution_count": 0,
   "metadata": {
    "application/vnd.databricks.v1+cell": {
     "cellMetadata": {
      "byteLimit": 2048000,
      "rowLimit": 10000
     },
     "inputWidgets": {},
     "nuid": "22d890db-a950-4d98-8f09-1a8446520bfa",
     "showTitle": true,
     "tableResultSettingsMap": {},
     "title": "Vectorizar Texto"
    }
   },
   "outputs": [],
   "source": [
    "%python\n",
    "#se vectoriza la columna de justificacion de planificacion de compra publica\n",
    "\n",
    "from sklearn.feature_extraction.text import TfidfVectorizer\n",
    "\n",
    "vectorizer = TfidfVectorizer(max_features=500)  # Se limita a las 500 palabras más relevantes\n",
    "X_tfidf = vectorizer.fit_transform(df['rationale_clean'])"
   ]
  },
  {
   "cell_type": "code",
   "execution_count": 0,
   "metadata": {
    "application/vnd.databricks.v1+cell": {
     "cellMetadata": {
      "byteLimit": 2048000,
      "rowLimit": 10000
     },
     "inputWidgets": {},
     "nuid": "87e965c1-5ab7-420b-ad50-77106f318756",
     "showTitle": false,
     "tableResultSettingsMap": {},
     "title": ""
    }
   },
   "outputs": [],
   "source": [
    "%python\n",
    "!pip install sentence_transformers\n",
    "from sentence_transformers import SentenceTransformer\n",
    "\n",
    "model = SentenceTransformer('distiluse-base-multilingual-cased')\n",
    "X_embed = model.encode(df['rationale_clean'])"
   ]
  },
  {
   "cell_type": "code",
   "execution_count": 0,
   "metadata": {
    "application/vnd.databricks.v1+cell": {
     "cellMetadata": {
      "byteLimit": 2048000,
      "rowLimit": 10000
     },
     "inputWidgets": {},
     "nuid": "862f552d-c6da-4583-8c6b-0aa1ec487df4",
     "showTitle": false,
     "tableResultSettingsMap": {},
     "title": ""
    }
   },
   "outputs": [],
   "source": [
    "%python\n",
    "print(type(X_tfidf))\n",
    "print(X_tfidf.shape)"
   ]
  },
  {
   "cell_type": "code",
   "execution_count": 0,
   "metadata": {
    "application/vnd.databricks.v1+cell": {
     "cellMetadata": {
      "byteLimit": 2048000,
      "rowLimit": 10000
     },
     "inputWidgets": {},
     "nuid": "183cbe45-bdd7-45f3-84fc-a25e1f46f8b6",
     "showTitle": false,
     "tableResultSettingsMap": {},
     "title": ""
    }
   },
   "outputs": [],
   "source": [
    "%python\n",
    "from sklearn.cluster import KMeans\n",
    "\n",
    "num_clusters = 5\n",
    "kmeans = KMeans(n_clusters=num_clusters, random_state=42)\n",
    "df_model['cluster_rationale'] = kmeans.fit_predict(X_tfidf)\n"
   ]
  },
  {
   "cell_type": "code",
   "execution_count": 0,
   "metadata": {
    "application/vnd.databricks.v1+cell": {
     "cellMetadata": {
      "byteLimit": 2048000,
      "rowLimit": 10000
     },
     "inputWidgets": {},
     "nuid": "10859ea5-8c10-40e5-a771-709923455569",
     "showTitle": false,
     "tableResultSettingsMap": {},
     "title": ""
    }
   },
   "outputs": [],
   "source": [
    "%python\n",
    "df[['cluster_rationale','rationale']].unique()"
   ]
  },
  {
   "cell_type": "code",
   "execution_count": 0,
   "metadata": {
    "application/vnd.databricks.v1+cell": {
     "cellMetadata": {
      "byteLimit": 2048000,
      "rowLimit": 10000
     },
     "inputWidgets": {},
     "nuid": "4db102d6-7621-410a-b287-af1f1ed7ed39",
     "showTitle": false,
     "tableResultSettingsMap": {},
     "title": ""
    }
   },
   "outputs": [],
   "source": [
    "%python\n",
    "from sklearn.decomposition import LatentDirichletAllocation\n",
    "\n",
    "lda = LatentDirichletAllocation(n_components=5, random_state=42)\n",
    "topics = lda.fit_transform(X_tfidf)\n",
    "df['topic_rationale'] = topics.argmax(axis=1)\n"
   ]
  },
  {
   "cell_type": "code",
   "execution_count": 0,
   "metadata": {
    "application/vnd.databricks.v1+cell": {
     "cellMetadata": {
      "byteLimit": 2048000,
      "rowLimit": 10000
     },
     "inputWidgets": {},
     "nuid": "c79b556e-1583-4815-ab2c-c2239c555644",
     "showTitle": false,
     "tableResultSettingsMap": {},
     "title": ""
    }
   },
   "outputs": [],
   "source": [
    "%python\n",
    "lda.transform(X_tfidf[-2:])"
   ]
  },
  {
   "cell_type": "code",
   "execution_count": 0,
   "metadata": {
    "application/vnd.databricks.v1+cell": {
     "cellMetadata": {
      "byteLimit": 2048000,
      "rowLimit": 10000
     },
     "inputWidgets": {},
     "nuid": "dba1df62-626a-4174-b9bd-1540a54d705f",
     "showTitle": false,
     "tableResultSettingsMap": {},
     "title": ""
    }
   },
   "outputs": [],
   "source": [
    "%python\n",
    "\n",
    "df[['topic_rationale','rationale']]"
   ]
  },
  {
   "cell_type": "code",
   "execution_count": 0,
   "metadata": {
    "application/vnd.databricks.v1+cell": {
     "cellMetadata": {
      "byteLimit": 2048000,
      "rowLimit": 10000
     },
     "inputWidgets": {},
     "nuid": "95cb2ef1-91a9-4436-bbec-2b5d11817132",
     "showTitle": false,
     "tableResultSettingsMap": {},
     "title": ""
    }
   },
   "outputs": [],
   "source": [
    "%python\n",
    "df[[\"anio\",\"budget_amount\",\"tenderPeriod_durationInDays\",\"enquiryPeriod_durationInDays\",\n",
    "          \"hasEnquiries\",\"awardPeriod_durationInDays\",\"total_amount_award\",\"num_adjudicaciones\"]].dropna().groupby(\"tenderPeriod_durationInDays\")[\"tenderPeriod_durationInDays\"].count()"
   ]
  },
  {
   "cell_type": "markdown",
   "metadata": {
    "application/vnd.databricks.v1+cell": {
     "cellMetadata": {},
     "inputWidgets": {},
     "nuid": "728203b6-ca75-49c1-b3e1-4e55570d669d",
     "showTitle": false,
     "tableResultSettingsMap": {},
     "title": ""
    }
   },
   "source": [
    "### Modelamiento"
   ]
  },
  {
   "cell_type": "code",
   "execution_count": 0,
   "metadata": {
    "application/vnd.databricks.v1+cell": {
     "cellMetadata": {
      "byteLimit": 2048000,
      "rowLimit": 10000
     },
     "inputWidgets": {},
     "nuid": "d281fce8-2603-4397-a9b0-5f0492f44d28",
     "showTitle": true,
     "tableResultSettingsMap": {},
     "title": "Librerias"
    }
   },
   "outputs": [],
   "source": [
    "%python\n",
    "from sklearn.preprocessing import LabelEncoder\n",
    "import pandas as pd\n",
    "import numpy as np\n",
    "from sklearn.preprocessing import MinMaxScaler, StandardScaler\n",
    "from sklearn.model_selection import train_test_split\n",
    "from sklearn.model_selection import ParameterGrid"
   ]
  },
  {
   "cell_type": "code",
   "execution_count": 0,
   "metadata": {
    "application/vnd.databricks.v1+cell": {
     "cellMetadata": {
      "byteLimit": 2048000,
      "rowLimit": 10000
     },
     "inputWidgets": {},
     "nuid": "9b4dab67-ef12-400c-8973-d5a198fb0c55",
     "showTitle": false,
     "tableResultSettingsMap": {},
     "title": ""
    }
   },
   "outputs": [],
   "source": [
    "%python\n",
    "!pip install tensorflow\n",
    "!pip install scikit-optimize"
   ]
  },
  {
   "cell_type": "code",
   "execution_count": 0,
   "metadata": {
    "application/vnd.databricks.v1+cell": {
     "cellMetadata": {
      "byteLimit": 2048000,
      "rowLimit": 10000
     },
     "inputWidgets": {},
     "nuid": "be1f2964-c26c-49b9-bf5f-4c59478b3a23",
     "showTitle": false,
     "tableResultSettingsMap": {},
     "title": ""
    }
   },
   "outputs": [],
   "source": [
    "%python\n",
    "import tensorflow as tf\n",
    "from tensorflow import keras\n",
    "from tensorflow.keras.models import Model\n",
    "from tensorflow.keras.layers import Input, Dense\n",
    "\n",
    "from skopt import gp_minimize\n",
    "from skopt.space import Integer, Real"
   ]
  },
  {
   "cell_type": "code",
   "execution_count": 0,
   "metadata": {
    "application/vnd.databricks.v1+cell": {
     "cellMetadata": {
      "byteLimit": 2048000,
      "rowLimit": 10000
     },
     "inputWidgets": {},
     "nuid": "6d197023-ecc4-4260-a8ec-8623b00ea366",
     "showTitle": false,
     "tableResultSettingsMap": {},
     "title": ""
    }
   },
   "outputs": [],
   "source": [
    "%python\n",
    "from sklearn.preprocessing import StandardScaler\n",
    "from sklearn.cluster import KMeans\n",
    "from sklearn.metrics import silhouette_score\n",
    "import matplotlib.pyplot as plt\n",
    "from skopt import gp_minimize\n",
    "from skopt.space import Integer"
   ]
  },
  {
   "cell_type": "markdown",
   "metadata": {
    "application/vnd.databricks.v1+cell": {
     "cellMetadata": {},
     "inputWidgets": {},
     "nuid": "c03feba0-dcc9-4951-901e-70f9d78a4261",
     "showTitle": false,
     "tableResultSettingsMap": {},
     "title": ""
    }
   },
   "source": [
    "#### Organizar datos"
   ]
  },
  {
   "cell_type": "code",
   "execution_count": 0,
   "metadata": {
    "application/vnd.databricks.v1+cell": {
     "cellMetadata": {
      "byteLimit": 2048000,
      "rowLimit": 10000
     },
     "inputWidgets": {},
     "nuid": "5a56c6db-a076-4259-b58f-c750242fa150",
     "showTitle": false,
     "tableResultSettingsMap": {},
     "title": ""
    }
   },
   "outputs": [],
   "source": [
    "%python\n",
    "#dataframe para el modelamiento\n",
    "#se cambia ocid a indice\n",
    "df_model=df.copy()\n",
    "\n",
    "df_model=df_model.set_index(\"ocid\")"
   ]
  },
  {
   "cell_type": "code",
   "execution_count": 0,
   "metadata": {
    "application/vnd.databricks.v1+cell": {
     "cellMetadata": {
      "byteLimit": 2048000,
      "rowLimit": 10000
     },
     "inputWidgets": {},
     "nuid": "14d6dafc-2336-4d6b-88b9-e9c48be4c25b",
     "showTitle": false,
     "tableResultSettingsMap": {},
     "title": ""
    }
   },
   "outputs": [],
   "source": [
    "%python\n",
    "display(df_model.head(10))"
   ]
  },
  {
   "cell_type": "code",
   "execution_count": 0,
   "metadata": {
    "application/vnd.databricks.v1+cell": {
     "cellMetadata": {
      "byteLimit": 2048000,
      "rowLimit": 10000
     },
     "inputWidgets": {},
     "nuid": "76a2e1bd-9de1-426a-ad59-e8dcbb63c387",
     "showTitle": true,
     "tableResultSettingsMap": {},
     "title": "Codificar variables categoricas"
    }
   },
   "outputs": [],
   "source": [
    "%python\n",
    "cols_num=[\"anio\",\"budget_amount\",\"tenderPeriod_durationInDays\",\"enquiryPeriod_durationInDays\"\n",
    "          ,\n",
    "          \"hasEnquiries\",\"awardPeriod_durationInDays\",\"total_amount_award\",\"num_adjudicaciones\"]\n",
    "\n",
    "cols_cat=[\"status\",\"procurementMethod\",\"mainProcurementCategory\"\n",
    "          ,\"rationale\"\n",
    "          ]\n",
    "\n",
    "\n",
    "for col in cols_cat:\n",
    "    le = LabelEncoder()\n",
    "    df_model[col] = le.fit_transform(df_model[col])\n"
   ]
  },
  {
   "cell_type": "code",
   "execution_count": 0,
   "metadata": {
    "application/vnd.databricks.v1+cell": {
     "cellMetadata": {
      "byteLimit": 2048000,
      "rowLimit": 10000
     },
     "inputWidgets": {},
     "nuid": "13ce9552-24ab-4dfe-aedd-b394ff66dd0d",
     "showTitle": false,
     "tableResultSettingsMap": {},
     "title": ""
    }
   },
   "outputs": [],
   "source": [
    "%python\n",
    "df_model_total=df_model[cols_num+cols_cat].dropna()\n",
    "df_model_total.shape"
   ]
  },
  {
   "cell_type": "code",
   "execution_count": 0,
   "metadata": {
    "application/vnd.databricks.v1+cell": {
     "cellMetadata": {
      "byteLimit": 2048000,
      "rowLimit": 10000
     },
     "inputWidgets": {},
     "nuid": "e86442be-dc7e-48ed-915f-1a2b024faf9b",
     "showTitle": false,
     "tableResultSettingsMap": {},
     "title": ""
    }
   },
   "outputs": [],
   "source": [
    "%python\n",
    "#df_model_total.to_parquet('/dbfs/mnt/aci-layer1/MODELOS_ANALITICOS/ocid_data_total.parquet', index=False)\n",
    "df_model_total=spark.read.parquet('/mnt/aci-layer1/MODELOS_ANALITICOS/ocid_data_total.parquet').toPandas()"
   ]
  },
  {
   "cell_type": "code",
   "execution_count": 0,
   "metadata": {
    "application/vnd.databricks.v1+cell": {
     "cellMetadata": {
      "byteLimit": 2048000,
      "rowLimit": 10000
     },
     "inputWidgets": {},
     "nuid": "da50d820-76e5-4c6d-b45c-f6233673eb89",
     "showTitle": false,
     "tableResultSettingsMap": {},
     "title": ""
    }
   },
   "outputs": [],
   "source": [
    "%python\n",
    "analizar_nulos(df_model_total)"
   ]
  },
  {
   "cell_type": "code",
   "execution_count": 0,
   "metadata": {
    "application/vnd.databricks.v1+cell": {
     "cellMetadata": {
      "byteLimit": 2048000,
      "rowLimit": 10000
     },
     "inputWidgets": {},
     "nuid": "13d0a756-1c52-4371-b2dc-98563c39197f",
     "showTitle": false,
     "tableResultSettingsMap": {},
     "title": ""
    }
   },
   "outputs": [],
   "source": [
    "%python\n",
    "# Calcular el número de valores nulos por fila\n",
    "df_model_total['Nulos por Fila'] = df_model_total.isnull().sum(axis=1)\n",
    "\n",
    "# Calcular el porcentaje de columnas faltantes por fila\n",
    "df_model_total['% Nulos'] = (df_model_total['Nulos por Fila'] / df_model_total.shape[1]) * 100\n",
    "\n",
    "# Ordenar el DataFrame por el porcentaje de nulos en orden descendente\n",
    "df_ordenado = df_model_total.sort_values(by='% Nulos', ascending=False)\n",
    "\n",
    "# Mostrar el resultado\n",
    "print(df_ordenado[['Nulos por Fila', '% Nulos']])"
   ]
  },
  {
   "cell_type": "code",
   "execution_count": 0,
   "metadata": {
    "application/vnd.databricks.v1+cell": {
     "cellMetadata": {
      "byteLimit": 2048000,
      "rowLimit": 10000
     },
     "inputWidgets": {},
     "nuid": "78e38728-e200-4af2-867d-b404b410682c",
     "showTitle": false,
     "tableResultSettingsMap": {},
     "title": ""
    }
   },
   "outputs": [],
   "source": [
    "%python\n",
    "(df_ordenado[\"Nulos por Fila\"]<=1).sum()"
   ]
  },
  {
   "cell_type": "code",
   "execution_count": 0,
   "metadata": {
    "application/vnd.databricks.v1+cell": {
     "cellMetadata": {
      "byteLimit": 2048000,
      "rowLimit": 10000
     },
     "inputWidgets": {},
     "nuid": "ea9f4380-9607-443b-9049-82d28b3dd74f",
     "showTitle": false,
     "tableResultSettingsMap": {},
     "title": ""
    }
   },
   "outputs": [],
   "source": [
    "%python\n",
    "display(df_model_total)"
   ]
  },
  {
   "cell_type": "markdown",
   "metadata": {
    "application/vnd.databricks.v1+cell": {
     "cellMetadata": {},
     "inputWidgets": {},
     "nuid": "c74ab796-21e4-4273-80d3-bfc0787de260",
     "showTitle": false,
     "tableResultSettingsMap": {},
     "title": ""
    }
   },
   "source": [
    "#### Preprocesamiento"
   ]
  },
  {
   "cell_type": "code",
   "execution_count": 0,
   "metadata": {
    "application/vnd.databricks.v1+cell": {
     "cellMetadata": {
      "byteLimit": 2048000,
      "rowLimit": 10000
     },
     "inputWidgets": {},
     "nuid": "539be1ea-d326-4191-b828-a3205f2706c1",
     "showTitle": true,
     "tableResultSettingsMap": {},
     "title": "df modelado"
    }
   },
   "outputs": [],
   "source": [
    "%python\n",
    "df_ml=df_model_total.sort_values(by=[\"anio\"])  # Ordenar por año\n",
    "\n",
    "#df_ml=df_model_total[df_model_total.anio==2024]\n",
    "\n",
    "df_ml.shape"
   ]
  },
  {
   "cell_type": "code",
   "execution_count": 0,
   "metadata": {
    "application/vnd.databricks.v1+cell": {
     "cellMetadata": {
      "byteLimit": 2048000,
      "rowLimit": 10000
     },
     "inputWidgets": {},
     "nuid": "68745ba1-4e5d-42a6-b90c-9874d682fda4",
     "showTitle": false,
     "tableResultSettingsMap": {},
     "title": ""
    }
   },
   "outputs": [],
   "source": [
    "%python\n",
    "df_ml.head(5)"
   ]
  },
  {
   "cell_type": "code",
   "execution_count": 0,
   "metadata": {
    "application/vnd.databricks.v1+cell": {
     "cellMetadata": {
      "byteLimit": 2048000,
      "rowLimit": 10000
     },
     "inputWidgets": {},
     "nuid": "2cb5dbbb-d787-43cd-8215-a0244b12ee48",
     "showTitle": false,
     "tableResultSettingsMap": {},
     "title": ""
    }
   },
   "outputs": [],
   "source": [
    "%python\n",
    "#df_ml.groupby(\"awardPeriod_durationInDays\")[\"awardPeriod_durationInDays\"].count()\n",
    "df_ml[\"hasEnquiries\"].unique()"
   ]
  },
  {
   "cell_type": "code",
   "execution_count": 0,
   "metadata": {
    "application/vnd.databricks.v1+cell": {
     "cellMetadata": {
      "byteLimit": 2048000,
      "rowLimit": 10000
     },
     "inputWidgets": {},
     "nuid": "126e206a-da9e-482f-b0f0-898ba981c343",
     "showTitle": true,
     "tableResultSettingsMap": {},
     "title": "escalar datos"
    }
   },
   "outputs": [],
   "source": [
    "%python\n",
    "# Seleccionar características numéricas para modelar\n",
    "features = [col for col in df_ml.columns if col not in [\"anio\"]]\n",
    "#scaler =  StandardScaler()\n",
    "scaler =  MinMaxScaler()\n",
    "df_ml[features] = scaler.fit_transform(df_ml[features])"
   ]
  },
  {
   "cell_type": "code",
   "execution_count": 0,
   "metadata": {
    "application/vnd.databricks.v1+cell": {
     "cellMetadata": {
      "byteLimit": 2048000,
      "rowLimit": 10000
     },
     "inputWidgets": {},
     "nuid": "ca4b3e0a-d1b3-4ba4-bdb6-f9136cc0af4a",
     "showTitle": false,
     "tableResultSettingsMap": {},
     "title": ""
    }
   },
   "outputs": [],
   "source": [
    "%python\n",
    "df_ml.describe()"
   ]
  },
  {
   "cell_type": "code",
   "execution_count": 0,
   "metadata": {
    "application/vnd.databricks.v1+cell": {
     "cellMetadata": {
      "byteLimit": 2048000,
      "rowLimit": 10000
     },
     "inputWidgets": {},
     "nuid": "1ad3abe4-ad97-4c8d-b17f-107268a0327c",
     "showTitle": false,
     "tableResultSettingsMap": {},
     "title": ""
    }
   },
   "outputs": [],
   "source": [
    "%python\n",
    "df_ml[\"tenderPeriod_durationInDays\"].unique()"
   ]
  },
  {
   "cell_type": "code",
   "execution_count": 0,
   "metadata": {
    "application/vnd.databricks.v1+cell": {
     "cellMetadata": {
      "byteLimit": 2048000,
      "rowLimit": 10000
     },
     "inputWidgets": {},
     "nuid": "cfaabef8-eeb6-4472-8229-f6499c18f6a3",
     "showTitle": true,
     "tableResultSettingsMap": {},
     "title": "conjunto train y test"
    }
   },
   "outputs": [],
   "source": [
    "%python\n",
    "# Dividir en conjunto de entrenamiento y prueba\n",
    "X_train, X_test = train_test_split(df_ml[features], test_size=0.3, shuffle=False)\n"
   ]
  },
  {
   "cell_type": "markdown",
   "metadata": {
    "application/vnd.databricks.v1+cell": {
     "cellMetadata": {},
     "inputWidgets": {},
     "nuid": "eac725a8-401e-4b03-9da3-bdd802dc00f3",
     "showTitle": false,
     "tableResultSettingsMap": {},
     "title": ""
    }
   },
   "source": [
    "#### Autoencoder"
   ]
  },
  {
   "cell_type": "code",
   "execution_count": 0,
   "metadata": {
    "application/vnd.databricks.v1+cell": {
     "cellMetadata": {
      "byteLimit": 2048000,
      "rowLimit": 10000
     },
     "inputWidgets": {},
     "nuid": "000bbafb-0590-4682-b451-ebe55c0e069f",
     "showTitle": false,
     "tableResultSettingsMap": {},
     "title": ""
    }
   },
   "outputs": [],
   "source": [
    "%python\n",
    "#!pip install tensorflow\n",
    "!pip install scikeras"
   ]
  },
  {
   "cell_type": "code",
   "execution_count": 0,
   "metadata": {
    "application/vnd.databricks.v1+cell": {
     "cellMetadata": {
      "byteLimit": 2048000,
      "rowLimit": 10000
     },
     "inputWidgets": {},
     "nuid": "9d5ecd2a-87b5-4974-8b9c-6db671acf179",
     "showTitle": false,
     "tableResultSettingsMap": {},
     "title": ""
    }
   },
   "outputs": [],
   "source": [
    "%python\n",
    "import numpy as np\n",
    "import pandas as pd\n",
    "import tensorflow as tf\n",
    "from tensorflow import keras\n",
    "from tensorflow.keras import layers\n",
    "from sklearn.preprocessing import StandardScaler\n",
    "from skopt import BayesSearchCV\n",
    "from skopt.space import Real, Integer\n",
    "from sklearn.model_selection import ParameterGrid\n",
    "from scikeras.wrappers import KerasRegressor\n",
    "from functools import partial\n",
    "from keras.layers import Input, Dense\n",
    "from keras.models import Model"
   ]
  },
  {
   "cell_type": "code",
   "execution_count": 0,
   "metadata": {
    "application/vnd.databricks.v1+cell": {
     "cellMetadata": {
      "byteLimit": 2048000,
      "rowLimit": 10000
     },
     "inputWidgets": {},
     "nuid": "aeed26d3-28d0-4f4e-9502-058c203a510c",
     "showTitle": true,
     "tableResultSettingsMap": {},
     "title": "Funcion Autoencoder"
    }
   },
   "outputs": [],
   "source": [
    "%python\n",
    "class CustomKerasRegressor(KerasRegressor):\n",
    "    def __init__(self, **kwargs):\n",
    "        self.encoding_dim = kwargs.pop('encoding_dim', 32)\n",
    "        super().__init__(**kwargs)\n",
    "\n",
    "    def get_params(self, deep=True):\n",
    "        params = super().get_params(deep)\n",
    "        params.update({'encoding_dim': self.encoding_dim})\n",
    "        return params\n",
    "\n",
    "    def set_params(self, **params):\n",
    "        self.encoding_dim = params.pop('encoding_dim', self.encoding_dim)\n",
    "        return super().set_params(**params)\n",
    "\n",
    "def build_autoencoder(encoding_dim=32, input_dim=X_train.shape[1]):\n",
    "    \"\"\"Construye un autoencoder con la dimensión de codificación especificada\"\"\"\n",
    "    input_layer = Input(shape=(input_dim,))\n",
    "    encoded = Dense(encoding_dim, activation='relu')(input_layer)\n",
    "    decoded = Dense(input_dim, activation='sigmoid')(encoded)\n",
    "\n",
    "    autoencoder = Model(input_layer, decoded)\n",
    "    autoencoder.compile(optimizer='adam', loss='mse')\n",
    "\n",
    "    return autoencoder\n",
    "\n",
    "def create_model(encoding_dim=32):\n",
    "    return build_autoencoder(encoding_dim=encoding_dim, input_dim=X_train.shape[1])\n",
    "\n",
    "autoencoder = CustomKerasRegressor(\n",
    "    build_fn=create_model,\n",
    "    verbose=0\n",
    ")"
   ]
  },
  {
   "cell_type": "code",
   "execution_count": 0,
   "metadata": {
    "application/vnd.databricks.v1+cell": {
     "cellMetadata": {
      "byteLimit": 2048000,
      "rowLimit": 10000
     },
     "inputWidgets": {},
     "nuid": "50f3b2b5-4e33-4703-ba81-d657896e4f76",
     "showTitle": true,
     "tableResultSettingsMap": {},
     "title": "Busqueda Bayesiana"
    }
   },
   "outputs": [],
   "source": [
    "%python\n",
    "search = BayesSearchCV(\n",
    "    estimator=autoencoder,\n",
    "    search_spaces={\n",
    "        'encoding_dim': Integer(3,10),  # Tamaño del espacio latente\n",
    "        'batch_size': Integer(32,128),\n",
    "        'epochs': Integer(50,100)\n",
    "    },\n",
    "    n_iter=20,  \n",
    "    random_state=42\n",
    ")\n",
    "\n",
    "# Asegúrate de que X_train esté definido y contenga tus datos de entrenamiento\n",
    "search.fit(X_train, X_train)\n",
    "best_params_bayes = search.best_params_\n",
    "print(\"Mejores hiperparámetros (Búsqueda Bayesiana):\", best_params_bayes)"
   ]
  },
  {
   "cell_type": "code",
   "execution_count": 0,
   "metadata": {
    "application/vnd.databricks.v1+cell": {
     "cellMetadata": {
      "byteLimit": 2048000,
      "rowLimit": 10000
     },
     "inputWidgets": {},
     "nuid": "4c00e53b-4bd0-4499-809e-0e0ca652dd7d",
     "showTitle": true,
     "tableResultSettingsMap": {},
     "title": "Entrenar Mejor Modelo"
    }
   },
   "outputs": [],
   "source": [
    "%python\n",
    "# Entrenar el autoencoder con los mejores parámetros encontrados\n",
    "best_autoencoder = build_autoencoder(\n",
    "  10 #best_params_bayes['encoding_dim']\n",
    "  , X_train.shape[1])\n",
    "best_autoencoder.fit(X_train, X_train, \n",
    "                     epochs=  100,#best_params_bayes['epochs'], \n",
    "                     batch_size= 32, ##best_params_bayes['batch_size'], \n",
    "                     verbose=1)"
   ]
  },
  {
   "cell_type": "code",
   "execution_count": 0,
   "metadata": {
    "application/vnd.databricks.v1+cell": {
     "cellMetadata": {
      "byteLimit": 2048000,
      "rowLimit": 10000
     },
     "inputWidgets": {},
     "nuid": "2f024033-62da-42d0-b17c-bc6ff10b68ea",
     "showTitle": true,
     "tableResultSettingsMap": {},
     "title": "Identificar Anomalos"
    }
   },
   "outputs": [],
   "source": [
    "%python\n",
    "# Calcular la reconstrucción de cada dato\n",
    "X_reconstruido_autoencoder = best_autoencoder.predict(df_ml[features])\n",
    "reconstruction_error = np.mean(np.abs(df_ml[features] - X_reconstruido_autoencoder), axis=1)\n",
    "\n",
    "# Añadir el error al dataframe original\n",
    "df_model_total['reconstruction_error_autoencoder'] = np.nan\n",
    "df_model_total.loc[df_ml.index, 'reconstruction_error_autoencoder'] = reconstruction_error"
   ]
  },
  {
   "cell_type": "code",
   "execution_count": 0,
   "metadata": {
    "application/vnd.databricks.v1+cell": {
     "cellMetadata": {
      "byteLimit": 2048000,
      "rowLimit": 10000
     },
     "inputWidgets": {},
     "nuid": "9dcbf121-cbfc-4af4-bb0a-738d74f6e90f",
     "showTitle": false,
     "tableResultSettingsMap": {},
     "title": ""
    }
   },
   "outputs": [],
   "source": [
    "%python\n",
    "display(df_model_total)"
   ]
  },
  {
   "cell_type": "code",
   "execution_count": 0,
   "metadata": {
    "application/vnd.databricks.v1+cell": {
     "cellMetadata": {},
     "inputWidgets": {},
     "nuid": "20758ba0-c6d9-40cc-b2db-e62f3db72179",
     "showTitle": false,
     "tableResultSettingsMap": {},
     "title": ""
    }
   },
   "outputs": [],
   "source": []
  },
  {
   "cell_type": "markdown",
   "metadata": {
    "application/vnd.databricks.v1+cell": {
     "cellMetadata": {},
     "inputWidgets": {},
     "nuid": "42a591c0-0fb1-46cc-b9fb-8c5d49a589a8",
     "showTitle": false,
     "tableResultSettingsMap": {},
     "title": ""
    }
   },
   "source": [
    "#### K means"
   ]
  },
  {
   "cell_type": "code",
   "execution_count": 0,
   "metadata": {
    "application/vnd.databricks.v1+cell": {
     "cellMetadata": {
      "byteLimit": 2048000,
      "rowLimit": 10000
     },
     "inputWidgets": {},
     "nuid": "ca69ac2e-bd17-4273-9874-6085c96bb501",
     "showTitle": false,
     "tableResultSettingsMap": {},
     "title": ""
    }
   },
   "outputs": [],
   "source": [
    "%python\n",
    "from sklearn.cluster import KMeans\n",
    "from sklearn.metrics import silhouette_score\n",
    "import matplotlib.pyplot as plt\n",
    "from skopt import gp_minimize\n",
    "from skopt.space import Integer"
   ]
  },
  {
   "cell_type": "code",
   "execution_count": 0,
   "metadata": {
    "application/vnd.databricks.v1+cell": {
     "cellMetadata": {
      "byteLimit": 2048000,
      "rowLimit": 10000
     },
     "inputWidgets": {},
     "nuid": "5a618f80-8fa6-4eeb-b115-edb2a1f0073e",
     "showTitle": true,
     "tableResultSettingsMap": {},
     "title": "Codo"
    }
   },
   "outputs": [],
   "source": [
    "%python\n",
    "# Determinar el número óptimo de clusters con el método del codo\n",
    "inertia = []\n",
    "K_range = range(2, 15)  # Probar con diferentes valores de k\n",
    "\n",
    "for k in K_range:\n",
    "    kmeans = KMeans(n_clusters=k, random_state=42, n_init=10)\n",
    "    kmeans.fit(df_ml[cols_cat+cols_num])\n",
    "    inertia.append(kmeans.inertia_)\n",
    "\n",
    "\n",
    "# Graficar la inercia para visualizar el \"codo\"\n",
    "plt.figure(figsize=(8, 5))\n",
    "plt.plot(K_range, inertia, marker=\"o\")\n",
    "plt.xlabel(\"Número de Clusters (k)\")\n",
    "plt.ylabel(\"Inercia\")\n",
    "plt.title(\"Método del Codo para K-Means\")\n",
    "plt.show()"
   ]
  },
  {
   "cell_type": "code",
   "execution_count": 0,
   "metadata": {
    "application/vnd.databricks.v1+cell": {
     "cellMetadata": {
      "byteLimit": 2048000,
      "rowLimit": 10000
     },
     "inputWidgets": {},
     "nuid": "525e96a2-152d-4d9f-a2d9-58b0f4b2df30",
     "showTitle": true,
     "tableResultSettingsMap": {},
     "title": "Busque por Silloute"
    }
   },
   "outputs": [],
   "source": [
    "%python\n",
    "# Selección automática de k con la mejor métrica de silhouette\n",
    "best_k = max(K_range, key=lambda k: silhouette_score(df_ml, KMeans(n_clusters=k, random_state=42, n_init=10).fit_predict(df_ml)))\n",
    "\n",
    "print(f\"Mejor número de clusters según silhouette score: {best_k}\")"
   ]
  },
  {
   "cell_type": "code",
   "execution_count": 0,
   "metadata": {
    "application/vnd.databricks.v1+cell": {
     "cellMetadata": {
      "byteLimit": 2048000,
      "rowLimit": 10000
     },
     "inputWidgets": {},
     "nuid": "71ab680c-a8b0-4fec-9a3e-7330ecfa70d6",
     "showTitle": true,
     "tableResultSettingsMap": {},
     "title": "Busqueda Bayesiana"
    }
   },
   "outputs": [],
   "source": [
    "%python\n",
    "# Búsqueda de hiperparámetros con Optimización Bayesiana\n",
    "def objective(params):\n",
    "    k = params[0]\n",
    "    kmeans = KMeans(n_clusters=k, random_state=42, n_init=10)\n",
    "    labels = kmeans.fit_predict(df_ml[cols_cat+cols_num])\n",
    "    return -silhouette_score(df_ml, labels)  # Queremos maximizar el score, por eso el signo negativo\n",
    "\n",
    "space = [Integer(2, 15, name=\"k\")]\n",
    "\n",
    "res = gp_minimize(objective, space, n_calls=10, random_state=42)"
   ]
  },
  {
   "cell_type": "code",
   "execution_count": 0,
   "metadata": {
    "application/vnd.databricks.v1+cell": {
     "cellMetadata": {
      "byteLimit": 2048000,
      "rowLimit": 10000
     },
     "inputWidgets": {},
     "nuid": "9213ae12-bb24-40e5-8bab-07e298c2c565",
     "showTitle": false,
     "tableResultSettingsMap": {},
     "title": ""
    }
   },
   "outputs": [],
   "source": [
    "%python\n",
    "res.x[0]"
   ]
  },
  {
   "cell_type": "code",
   "execution_count": 0,
   "metadata": {
    "application/vnd.databricks.v1+cell": {
     "cellMetadata": {
      "byteLimit": 2048000,
      "rowLimit": 10000
     },
     "inputWidgets": {},
     "nuid": "dc7bf2dd-9113-421c-9d3c-e278fa45f638",
     "showTitle": true,
     "tableResultSettingsMap": {},
     "title": "Entrenar mejor modelo"
    }
   },
   "outputs": [],
   "source": [
    "%python\n",
    "# Entrenar el mejor modelo\n",
    "best_k = 12 #res.x[0]\n",
    "final_kmeans = KMeans(n_clusters=best_k, random_state=42, n_init=10)\n",
    "df_ml[\"cluster_k_mean\"] = final_kmeans.fit_predict(df_ml[cols_num+cols_cat])\n"
   ]
  },
  {
   "cell_type": "code",
   "execution_count": 0,
   "metadata": {
    "application/vnd.databricks.v1+cell": {
     "cellMetadata": {
      "byteLimit": 2048000,
      "rowLimit": 10000
     },
     "inputWidgets": {},
     "nuid": "b2588593-9636-4487-ad24-6946457a6448",
     "showTitle": false,
     "tableResultSettingsMap": {},
     "title": ""
    }
   },
   "outputs": [],
   "source": [
    "%python\n",
    "display(df_ml.groupby(\"cluster_k_mean\")[\"cluster_k_mean\"].count())"
   ]
  },
  {
   "cell_type": "code",
   "execution_count": 0,
   "metadata": {
    "application/vnd.databricks.v1+cell": {
     "cellMetadata": {
      "byteLimit": 2048000,
      "rowLimit": 10000
     },
     "inputWidgets": {},
     "nuid": "8094abdf-7526-4416-8b0b-4cf09f1bd099",
     "showTitle": true,
     "tableResultSettingsMap": {},
     "title": "Identificar anomalos"
    }
   },
   "outputs": [],
   "source": [
    "%python\n",
    "# Calcular la distancia de cada punto a su centroide más cercano\n",
    "distances = np.min(final_kmeans.transform(df_ml[cols_num+cols_cat]), axis=1)\n",
    "df_ml[\"anomaly_score_kmean\"] = distances  # Cuanto mayor la distancia, más anómalo es el registro\n",
    "\n",
    "# Guardar los resultados en df_model_total\n",
    "df_model_total[\"cluster_k_mean\"] = df_ml[\"cluster_k_mean\"]\n",
    "df_model_total[\"anomaly_score_k_mean\"] = df_ml[\"anomaly_score_kmean\"]\n",
    "\n",
    "# Mostrar los registros más sospechosos\n",
    "df_model_total.sort_values(by=\"anomaly_score_k_mean\", ascending=False).head(10)"
   ]
  },
  {
   "cell_type": "markdown",
   "metadata": {
    "application/vnd.databricks.v1+cell": {
     "cellMetadata": {},
     "inputWidgets": {},
     "nuid": "c7c26d52-71b8-4678-b684-f68b7181aa06",
     "showTitle": false,
     "tableResultSettingsMap": {},
     "title": ""
    }
   },
   "source": [
    "#### Isolation Forest"
   ]
  },
  {
   "cell_type": "code",
   "execution_count": 0,
   "metadata": {
    "application/vnd.databricks.v1+cell": {
     "cellMetadata": {
      "byteLimit": 2048000,
      "rowLimit": 10000
     },
     "inputWidgets": {},
     "nuid": "1f994ea1-fe1a-4cf6-8e44-a8d9f1865e0c",
     "showTitle": false,
     "tableResultSettingsMap": {},
     "title": ""
    }
   },
   "outputs": [],
   "source": [
    "%python\n",
    "import numpy as np\n",
    "import pandas as pd\n",
    "from sklearn.ensemble import IsolationForest\n",
    "from sklearn.preprocessing import StandardScaler\n",
    "from sklearn.model_selection import ParameterGrid\n",
    "from skopt import BayesSearchCV\n",
    "from skopt.space import Real, Integer"
   ]
  },
  {
   "cell_type": "code",
   "execution_count": 0,
   "metadata": {
    "application/vnd.databricks.v1+cell": {
     "cellMetadata": {
      "byteLimit": 2048000,
      "rowLimit": 10000
     },
     "inputWidgets": {},
     "nuid": "e71f8b62-066e-4d5b-9962-f8add239bf97",
     "showTitle": true,
     "tableResultSettingsMap": {},
     "title": "Grid parameter"
    }
   },
   "outputs": [],
   "source": [
    "%python\n",
    "# Grid Search para optimizar hiperparámetros\n",
    "# -----------------------------------------\n",
    "param_grid = {\n",
    "    'n_estimators': [50, 100, 200],  # Número de árboles\n",
    "    'max_samples': ['auto', 0.8, 0.9],  # Proporción de muestras usadas\n",
    "    'contamination': [0.05, 0.1, 0.15],  # Proporción estimada de anomalías\n",
    "    'max_features': [0.5, 0.75, 1.0],  # Fracción de características usadas\n",
    "}\n",
    "\n",
    "\n",
    "best_score = float('-inf')\n",
    "best_params = None\n",
    "\n",
    "for params in ParameterGrid(param_grid):\n",
    "    model = IsolationForest(**params, random_state=42)\n",
    "    model.fit(df_ml[cols_num+cols_cat])\n",
    "    scores = model.decision_function(df_ml[cols_num+cols_cat]).mean()  # Evaluar media de puntajes\n",
    "    if scores > best_score:\n",
    "        best_score = scores\n",
    "        best_params = params\n",
    "\n",
    "print(\"Mejores hiperparámetros (Grid Search):\", best_params)\n"
   ]
  },
  {
   "cell_type": "code",
   "execution_count": 0,
   "metadata": {
    "application/vnd.databricks.v1+cell": {
     "cellMetadata": {
      "byteLimit": 2048000,
      "rowLimit": 10000
     },
     "inputWidgets": {},
     "nuid": "1e44687c-28f1-4d88-b8d9-7fcde3de4ae2",
     "showTitle": true,
     "tableResultSettingsMap": {},
     "title": "Busqueda Bayesiana"
    }
   },
   "outputs": [],
   "source": [
    "%python\n",
    "# Definir una función de evaluación personalizada para BayesSearchCV\n",
    "# -----------------------------------------\n",
    "def anomaly_score(estimator, X, y=None):\n",
    "    \"\"\" Usa la media del decision_function como métrica de evaluación. \"\"\"\n",
    "    scores = estimator.decision_function(X)\n",
    "    return np.mean(scores)\n",
    "\n",
    "\n",
    "\n",
    "# Búsqueda Bayesiana para optimización avanzada\n",
    "# -----------------------------------------\n",
    "bayes_search = BayesSearchCV(\n",
    "    IsolationForest(random_state=42),\n",
    "    {\n",
    "        'n_estimators': Integer(50, 300),\n",
    "        'max_samples': Real(0.5, 1.0),\n",
    "        'contamination': Real(0.01, 0.2),\n",
    "        'max_features': Real(0.5, 1.0),\n",
    "    },\n",
    "    n_iter=30,  \n",
    "    random_state=42,\n",
    "    scoring=anomaly_score,\n",
    "    cv=3  \n",
    ")\n",
    "\n",
    "bayes_search.fit(df_ml[cols_num+cols_cat])\n",
    "best_params_bayes = bayes_search.best_params_\n",
    "print(\"Mejores hiperparámetros (Búsqueda Bayesiana):\", best_params_bayes)"
   ]
  },
  {
   "cell_type": "code",
   "execution_count": 0,
   "metadata": {
    "application/vnd.databricks.v1+cell": {
     "cellMetadata": {
      "byteLimit": 2048000,
      "rowLimit": 10000
     },
     "inputWidgets": {},
     "nuid": "7a65f39b-521d-478d-b94f-7b34999bd5b8",
     "showTitle": true,
     "tableResultSettingsMap": {},
     "title": "Entrenar mejor modelo"
    }
   },
   "outputs": [],
   "source": [
    "%python\n",
    "# Entrenar el modelo final con los mejores parámetros\n",
    "# -----------------------------------------\n",
    "#best_model_iso = IsolationForest(**best_params_bayes, random_state=42)\n",
    "best_model_iso = IsolationForest(\n",
    "  n_estimators=50,\n",
    "  contamination=0.01,\n",
    "  max_features=1.0,\n",
    "  max_samples=0.5,\n",
    "  random_state=42)\n",
    "best_model_iso.fit(df_ml[cols_num+cols_cat])\n"
   ]
  },
  {
   "cell_type": "code",
   "execution_count": 0,
   "metadata": {
    "application/vnd.databricks.v1+cell": {
     "cellMetadata": {
      "byteLimit": 2048000,
      "rowLimit": 10000
     },
     "inputWidgets": {},
     "nuid": "ecc18e5d-82ff-41e2-bb8b-00d6a4f3a7e3",
     "showTitle": true,
     "tableResultSettingsMap": {},
     "title": "Identificar Anomalos"
    }
   },
   "outputs": [],
   "source": [
    "%python\n",
    "\n",
    "# Obtener puntajes de anomalía\n",
    "df_model_total['anomaly_score_isolation'] = best_model_iso.decision_function(df_ml[cols_num+cols_cat])\n",
    "df_model_total['is_anomaly_isolation'] = best_model_iso.predict(df_ml[cols_num+cols_cat])  # -1 = Anomalía, 1 = Normal\n",
    "\n",
    "# Ordenar por anomalía (los valores más bajos son más sospechosos)\n",
    "df_sorted = df_model_total.sort_values(by='anomaly_score_isolation')\n",
    "\n",
    "# Mostrar las compras más sospechosas\n",
    "print(df_sorted.head(10))  # Top 10 compras más anómalas"
   ]
  },
  {
   "cell_type": "code",
   "execution_count": 0,
   "metadata": {
    "application/vnd.databricks.v1+cell": {
     "cellMetadata": {
      "byteLimit": 2048000,
      "rowLimit": 10000
     },
     "inputWidgets": {},
     "nuid": "aa6efe5c-e3bc-44a8-b654-0969fa5b6345",
     "showTitle": false,
     "tableResultSettingsMap": {},
     "title": ""
    }
   },
   "outputs": [],
   "source": [
    "%python\n",
    "display(df_model_total)"
   ]
  },
  {
   "cell_type": "markdown",
   "metadata": {
    "application/vnd.databricks.v1+cell": {
     "cellMetadata": {},
     "inputWidgets": {},
     "nuid": "92230078-6b77-41f6-9bf0-3fb8b0fd2d61",
     "showTitle": false,
     "tableResultSettingsMap": {},
     "title": ""
    }
   },
   "source": [
    "#### DBSCAN"
   ]
  },
  {
   "cell_type": "code",
   "execution_count": 0,
   "metadata": {
    "application/vnd.databricks.v1+cell": {
     "cellMetadata": {
      "byteLimit": 2048000,
      "rowLimit": 10000
     },
     "inputWidgets": {},
     "nuid": "78333ff5-1f15-48af-92b8-532456db3ffe",
     "showTitle": false,
     "tableResultSettingsMap": {},
     "title": ""
    }
   },
   "outputs": [],
   "source": [
    "%python\n",
    "#!pip install umap-learn\n",
    "!pip uninstall umap-learn"
   ]
  },
  {
   "cell_type": "code",
   "execution_count": 0,
   "metadata": {
    "application/vnd.databricks.v1+cell": {
     "cellMetadata": {
      "byteLimit": 2048000,
      "rowLimit": 10000
     },
     "inputWidgets": {},
     "nuid": "2898ad80-7165-41ee-bb40-d878b503cc67",
     "showTitle": false,
     "tableResultSettingsMap": {},
     "title": ""
    }
   },
   "outputs": [],
   "source": [
    "%python\n",
    "import numpy as np\n",
    "import pandas as pd\n",
    "from sklearn.preprocessing import StandardScaler\n",
    "from sklearn.neighbors import NearestNeighbors\n",
    "from sklearn.cluster import DBSCAN\n",
    "import umap.umap_ as umap\n",
    "import matplotlib.pyplot as plt\n",
    "from sklearn.metrics import silhouette_score\n",
    "from skopt import BayesSearchCV\n",
    "from skopt.space import Real, Integer"
   ]
  },
  {
   "cell_type": "code",
   "execution_count": 0,
   "metadata": {
    "application/vnd.databricks.v1+cell": {
     "cellMetadata": {
      "byteLimit": 2048000,
      "rowLimit": 10000
     },
     "inputWidgets": {},
     "nuid": "cf647170-5981-4282-81f8-21e0610e80af",
     "showTitle": true,
     "tableResultSettingsMap": {},
     "title": "Umap"
    }
   },
   "outputs": [],
   "source": [
    "%python\n",
    "# Aplicar reducción de dimensionalidad con UMAP\n",
    "umap_model = umap.UMAP(n_neighbors=15, min_dist=0.1, n_components=5, random_state=42)\n",
    "X_umap = umap_model.fit_transform(df_ml[cols_cat+cols_num])"
   ]
  },
  {
   "cell_type": "code",
   "execution_count": 0,
   "metadata": {
    "application/vnd.databricks.v1+cell": {
     "cellMetadata": {
      "byteLimit": 2048000,
      "rowLimit": 10000
     },
     "inputWidgets": {},
     "nuid": "ec3cada7-b836-4147-86e9-43f174c670e5",
     "showTitle": false,
     "tableResultSettingsMap": {},
     "title": ""
    }
   },
   "outputs": [],
   "source": [
    "%python\n",
    "X_umap.shape"
   ]
  },
  {
   "cell_type": "code",
   "execution_count": 0,
   "metadata": {
    "application/vnd.databricks.v1+cell": {
     "cellMetadata": {
      "byteLimit": 2048000,
      "rowLimit": 10000
     },
     "inputWidgets": {},
     "nuid": "345a12c2-96bb-41f2-957c-61d092e3fcc5",
     "showTitle": false,
     "tableResultSettingsMap": {},
     "title": ""
    }
   },
   "outputs": [],
   "source": [
    "%python\n",
    "# Estimación de épsilon óptimo usando el método de rodilla\n",
    "nearest_neighbors = NearestNeighbors(n_neighbors=12)\n",
    "nearest_neighbors.fit(X_umap)\n",
    "distances, _ = nearest_neighbors.kneighbors(X_umap)\n",
    "distances = np.sort(distances[:, -1])\n",
    "\n",
    "plt.plot(distances)\n",
    "plt.xlabel(\"Puntos ordenados\")\n",
    "plt.ylabel(\"Distancia al 5º vecino más cercano\")\n",
    "plt.title(\"Curva de rodilla para seleccionar épsilon\")\n",
    "plt.show()"
   ]
  },
  {
   "cell_type": "code",
   "execution_count": 0,
   "metadata": {
    "application/vnd.databricks.v1+cell": {
     "cellMetadata": {
      "byteLimit": 2048000,
      "rowLimit": 10000
     },
     "inputWidgets": {},
     "nuid": "d06073a9-a6f1-4cbf-95af-559bdd1f8efe",
     "showTitle": false,
     "tableResultSettingsMap": {},
     "title": ""
    }
   },
   "outputs": [],
   "source": [
    "%python\n",
    "# Entrenar DBSCAN con valores iniciales de épsilon y min_samples\n",
    "eps_optimo = 0.15  # Ajusta este valor con base en la curva de rodilla\n",
    "min_samples_optimo = 10\n",
    "\n",
    "dbscan = DBSCAN(eps=eps_optimo, min_samples=min_samples_optimo, metric='euclidean')\n",
    "clusters = dbscan.fit_predict(df_ml[cols_cat+cols_num])"
   ]
  },
  {
   "cell_type": "code",
   "execution_count": 0,
   "metadata": {
    "application/vnd.databricks.v1+cell": {
     "cellMetadata": {
      "byteLimit": 2048000,
      "rowLimit": 10000
     },
     "inputWidgets": {},
     "nuid": "11832bef-dc82-4f15-b65f-dc55dab32bc8",
     "showTitle": true,
     "tableResultSettingsMap": {},
     "title": "Busqueda Bayesiana"
    }
   },
   "outputs": [],
   "source": [
    "%python\n",
    "#  Definir función de evaluación para DBSCAN\n",
    "def evaluate_dbscan(eps, min_samples):\n",
    "    \"\"\"Evalúa DBSCAN con los parámetros dados y devuelve la Silhouette Score\"\"\"\n",
    "    model = DBSCAN(eps=eps, min_samples=int(min_samples))\n",
    "    labels = model.fit_predict(X_umap)\n",
    "\n",
    "    # Evita evaluar si todos los puntos son ruido (-1)\n",
    "    if len(set(labels)) <= 1:\n",
    "        return -1  # Silhouette Score no es válido en este caso\n",
    "    \n",
    "    return silhouette_score(X_umap, labels)\n",
    "  \n",
    "#  Configurar la Búsqueda Bayesiana\n",
    "search_space = {\n",
    "    'eps': Real(0.1, 2.0, prior='log-uniform'),  # Rango típico para DBSCAN\n",
    "    'min_samples': Integer(2, 50)  # Número mínimo de puntos en un cluster\n",
    "}  \n",
    "\n",
    "opt = BayesSearchCV(\n",
    "    estimator=DBSCAN(),\n",
    "    search_spaces=search_space,\n",
    "    scoring=lambda estimator, X: evaluate_dbscan(estimator.eps, estimator.min_samples),\n",
    "    n_iter=20,  # Número de iteraciones de búsqueda\n",
    "    random_state=42,\n",
    "    cv=3  # Número de validaciones cruzadas\n",
    ")\n",
    "\n",
    "opt.fit(X_umap)\n",
    "\n",
    "# Obtener los mejores parámetros\n",
    "best_params_dbs = opt.best_params_\n",
    "print(f\"Mejores parámetros encontrados: {best_params_dbs}\")"
   ]
  },
  {
   "cell_type": "code",
   "execution_count": 0,
   "metadata": {
    "application/vnd.databricks.v1+cell": {
     "cellMetadata": {
      "byteLimit": 2048000,
      "rowLimit": 10000
     },
     "inputWidgets": {},
     "nuid": "c8db737f-326a-4d76-91a5-2fd3b0f39af7",
     "showTitle": true,
     "tableResultSettingsMap": {},
     "title": "Entrenar mejor modelo"
    }
   },
   "outputs": [],
   "source": [
    "%python\n",
    "#Mejores parámetros encontrados: OrderedDict([('eps', 0.36891624267080253), ('min_samples', 34)])\n",
    "\n",
    "# Entrenar DBSCAN con los mejores parámetros\n",
    "dbscan = DBSCAN(eps=best_params_dbs['eps'], min_samples=best_params_dbs['min_samples'])\n",
    "clusters_dbs = dbscan.fit_predict(X_umap)\n",
    "\n",
    "# Agregar resultados al DataFrame\n",
    "df_model_total['cluster_dbscan'] = clusters_dbs\n",
    "df_model_total['anomaly_score'] = (df_model_total['cluster_dbscan'] == -1).astype(int)\n",
    "\n",
    "# Resumen de anomalías detectadas\n",
    "print(df_model_total['cluster_dbscan'].value_counts())"
   ]
  },
  {
   "cell_type": "markdown",
   "metadata": {
    "application/vnd.databricks.v1+cell": {
     "cellMetadata": {},
     "inputWidgets": {},
     "nuid": "aac3df8a-7800-4322-a5ef-e2a511641caf",
     "showTitle": false,
     "tableResultSettingsMap": {},
     "title": ""
    }
   },
   "source": [
    "#### Clasificar Datos Anomalos  "
   ]
  },
  {
   "cell_type": "code",
   "execution_count": 0,
   "metadata": {
    "application/vnd.databricks.v1+cell": {
     "cellMetadata": {
      "byteLimit": 2048000,
      "rowLimit": 10000
     },
     "inputWidgets": {},
     "nuid": "0974e844-37a8-49cb-b045-9b1577e403f0",
     "showTitle": false,
     "tableResultSettingsMap": {},
     "title": ""
    }
   },
   "outputs": [],
   "source": [
    "%python\n",
    "import numpy as np\n",
    "import pandas as pd\n",
    "from sklearn.metrics import roc_curve, precision_recall_curve"
   ]
  },
  {
   "cell_type": "code",
   "execution_count": 0,
   "metadata": {
    "application/vnd.databricks.v1+cell": {
     "cellMetadata": {
      "byteLimit": 2048000,
      "rowLimit": 10000
     },
     "inputWidgets": {},
     "nuid": "31fcea2b-ea21-47f8-ab06-b59ca33ea172",
     "showTitle": false,
     "tableResultSettingsMap": {},
     "title": ""
    }
   },
   "outputs": [],
   "source": [
    "%python\n",
    "display(df_model_total)"
   ]
  },
  {
   "cell_type": "code",
   "execution_count": 0,
   "metadata": {
    "application/vnd.databricks.v1+cell": {
     "cellMetadata": {
      "byteLimit": 2048000,
      "rowLimit": 10000
     },
     "inputWidgets": {},
     "nuid": "48806f91-47a4-497f-bc2d-ebac7f2f9a44",
     "showTitle": false,
     "tableResultSettingsMap": {},
     "title": ""
    }
   },
   "outputs": [],
   "source": [
    "%python\n",
    "np.percentile(df_model_total['reconstruction_error_autoencoder'], 95)"
   ]
  },
  {
   "cell_type": "code",
   "execution_count": 0,
   "metadata": {
    "application/vnd.databricks.v1+cell": {
     "cellMetadata": {
      "byteLimit": 2048000,
      "rowLimit": 10000
     },
     "inputWidgets": {},
     "nuid": "378f57cc-3f4b-42fd-8f4e-c852ded724bd",
     "showTitle": true,
     "tableResultSettingsMap": {},
     "title": "Puntos de corte"
    }
   },
   "outputs": [],
   "source": [
    "%python\n",
    "# Definir las columnas de puntajes de anomalía (ajusta según tu dataset)\n",
    "anomaly_scores_cols = [\n",
    "    'reconstruction_error_autoencoder',\n",
    "    'anomaly_score_k_mean',\n",
    "    'anomaly_score_isolation'\n",
    "    #, 'anomaly_score_kmeans'\n",
    "    ]\n",
    "\n",
    "# Definir un umbral de referencia basado en el percentil 95 si no hay etiquetas\n",
    "for col in anomaly_scores_cols:\n",
    "    threshold_percentile = np.percentile(df_model_total[col], 95)  # Umbral basado en distribución\n",
    "    df_model_total[f'{col}_anomaly'] = (df_model_total[col] >= threshold_percentile).astype(int)\n",
    "\n",
    "# Si hay etiquetas de anomalía, usar ROC y el criterio de Youden\n",
    "if 'label' in df_model_total.columns:  # Suponiendo que 'label' tiene 1=anómalo, 0=no anómalo\n",
    "    optimal_thresholds = {}\n",
    "\n",
    "    for col in anomaly_scores_cols:\n",
    "        fpr, tpr, thresholds = roc_curve(df_model_total['label'], df_model_total[col])\n",
    "        youden_index = tpr - fpr  # Se maximiza este índice\n",
    "        best_threshold = thresholds[np.argmax(youden_index)]\n",
    "\n",
    "        optimal_thresholds[col] = best_threshold\n",
    "\n",
    "        # Crear columna de clasificación binaria con el umbral óptimo\n",
    "        df_model_total[f'{col}_anomaly'] = (df_model_total[col] >= best_threshold).astype(int)\n",
    "\n",
    "    print(\"Puntos de corte óptimos calculados con ROC-Youden:\", optimal_thresholds)"
   ]
  },
  {
   "cell_type": "code",
   "execution_count": 0,
   "metadata": {
    "application/vnd.databricks.v1+cell": {
     "cellMetadata": {
      "byteLimit": 2048000,
      "rowLimit": 10000
     },
     "inputWidgets": {},
     "nuid": "06e9a673-54c8-4efd-a380-4fd5d08ffa8a",
     "showTitle": false,
     "tableResultSettingsMap": {},
     "title": ""
    }
   },
   "outputs": [],
   "source": [
    "%python\n",
    "# Contar las ocurrencias de cada categoría\n",
    "category_counts = df_model_total['reconstruction_error_autoencoder_anomaly'].value_counts()\n",
    "\n",
    "# Crear el gráfico de barras\n",
    "plt.figure(figsize=(12, 8))\n",
    "bars = plt.bar(category_counts.index, category_counts.values)\n",
    "plt.title('Reconstruction Error Autoencoder Anomaly', fontsize=20)\n",
    "plt.xlabel('Categoría', fontsize=16)\n",
    "plt.ylabel('Conteo', fontsize=16)\n",
    "plt.xticks(category_counts.index, fontsize=14)\n",
    "plt.yticks(fontsize=14)\n",
    "\n",
    "# Añadir los números del conteo sobre las barras\n",
    "for bar in bars:\n",
    "    yval = bar.get_height()\n",
    "    plt.text(bar.get_x() + bar.get_width()/2, yval + 0.1, int(yval), ha='center', va='bottom', fontsize=14)\n",
    "\n",
    "plt.show()\n"
   ]
  },
  {
   "cell_type": "code",
   "execution_count": 0,
   "metadata": {
    "application/vnd.databricks.v1+cell": {
     "cellMetadata": {
      "byteLimit": 2048000,
      "rowLimit": 10000
     },
     "inputWidgets": {},
     "nuid": "471d3aa2-d46e-4b92-9135-a7afdeb62968",
     "showTitle": false,
     "tableResultSettingsMap": {},
     "title": ""
    }
   },
   "outputs": [],
   "source": [
    "%python\n",
    "# Contar las ocurrencias de cada categoría\n",
    "category_counts = df_model_total['anomaly_score_k_mean_anomaly'].value_counts()\n",
    "\n",
    "# Crear el gráfico de barras\n",
    "plt.figure(figsize=(12, 8))\n",
    "bars = plt.bar(category_counts.index, category_counts.values)\n",
    "plt.title('anomaly_score_k_mean_anomaly', fontsize=20)\n",
    "plt.xlabel('Categoría', fontsize=16)\n",
    "plt.ylabel('Conteo', fontsize=16)\n",
    "plt.xticks(category_counts.index, fontsize=14)\n",
    "plt.yticks(fontsize=14)\n",
    "\n",
    "# Añadir los números del conteo sobre las barras\n",
    "for bar in bars:\n",
    "    yval = bar.get_height()\n",
    "    plt.text(bar.get_x() + bar.get_width()/2, yval + 0.1, int(yval), ha='center', va='bottom', fontsize=14)\n",
    "\n",
    "plt.show()\n"
   ]
  },
  {
   "cell_type": "code",
   "execution_count": 0,
   "metadata": {
    "application/vnd.databricks.v1+cell": {
     "cellMetadata": {
      "byteLimit": 2048000,
      "rowLimit": 10000
     },
     "inputWidgets": {},
     "nuid": "aa11fc48-2183-48bb-974f-8f76116177b3",
     "showTitle": false,
     "tableResultSettingsMap": {},
     "title": ""
    }
   },
   "outputs": [],
   "source": [
    "%python\n",
    "# Contar las ocurrencias de cada categoría\n",
    "category_counts = df_model_total['anomaly_score_isolation_anomaly'].value_counts()\n",
    "\n",
    "# Crear el gráfico de barras\n",
    "plt.figure(figsize=(12, 8))\n",
    "bars = plt.bar(category_counts.index, category_counts.values)\n",
    "plt.title('anomaly_score_isolation_anomaly', fontsize=20)\n",
    "plt.xlabel('Categoría', fontsize=16)\n",
    "plt.ylabel('Conteo', fontsize=16)\n",
    "plt.xticks(category_counts.index, fontsize=14)\n",
    "plt.yticks(fontsize=14)\n",
    "\n",
    "# Añadir los números del conteo sobre las barras\n",
    "for bar in bars:\n",
    "    yval = bar.get_height()\n",
    "    plt.text(bar.get_x() + bar.get_width()/2, yval + 0.1, int(yval), ha='center', va='bottom', fontsize=14)\n",
    "\n",
    "plt.show()\n"
   ]
  }
 ],
 "metadata": {
  "application/vnd.databricks.v1+notebook": {
   "computePreferences": null,
   "dashboards": [],
   "environmentMetadata": {
    "base_environment": "",
    "environment_version": "2"
   },
   "language": "sql",
   "notebookMetadata": {
    "mostRecentlyExecutedCommandWithImplicitDF": {
     "commandId": 8442387572978538,
     "dataframes": [
      "_sqldf"
     ]
    },
    "pythonIndentUnit": 2
   },
   "notebookName": "Modelo OCID",
   "widgets": {}
  },
  "language_info": {
   "name": "sql"
  }
 },
 "nbformat": 4,
 "nbformat_minor": 0
}
