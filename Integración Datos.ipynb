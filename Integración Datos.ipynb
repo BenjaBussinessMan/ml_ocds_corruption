{
 "cells": [
  {
   "cell_type": "markdown",
   "metadata": {},
   "source": [
    "### Librerías"
   ]
  },
  {
   "cell_type": "code",
   "execution_count": 28,
   "metadata": {},
   "outputs": [],
   "source": [
    "import pandas as pd\n",
    "import numpy as np\n",
    "import arrow"
   ]
  },
  {
   "cell_type": "markdown",
   "metadata": {},
   "source": [
    "### Carga de Datos"
   ]
  },
  {
   "cell_type": "markdown",
   "metadata": {},
   "source": [
    "#### Planning"
   ]
  },
  {
   "cell_type": "code",
   "execution_count": 29,
   "metadata": {},
   "outputs": [],
   "source": [
    "data_2020_planning=pd.read_excel(\"releases_2020.xlsx\",sheet_name='Planning').assign(anio=2020)\n",
    "data_2021_planning=pd.read_excel(\"releases_2021.xlsx\",sheet_name='Planning').assign(anio=2021)\n",
    "data_2022_planning=pd.read_excel(\"releases_2022.xlsx\",sheet_name='Planning').assign(anio=2022)\n",
    "data_2023_planning=pd.read_excel(\"releases_2023.xlsx\",sheet_name='Planning').assign(anio=2023)\n",
    "data_2024_planning=pd.read_excel(\"releases_2024.xlsx\",sheet_name='Planning').assign(anio=2024)"
   ]
  },
  {
   "cell_type": "code",
   "execution_count": 31,
   "metadata": {},
   "outputs": [],
   "source": [
    "data_planning=pd.concat([\n",
    "    data_2020_planning,\n",
    "    data_2021_planning,\n",
    "    data_2022_planning,\n",
    "    data_2023_planning,\n",
    "    data_2024_planning])"
   ]
  },
  {
   "cell_type": "code",
   "execution_count": 33,
   "metadata": {},
   "outputs": [
    {
     "name": "stdout",
     "output_type": "stream",
     "text": [
      "217596\n"
     ]
    },
    {
     "data": {
      "text/plain": [
       "ocid                       0\n",
       "id                         0\n",
       "rationale                  2\n",
       "budget_id              37264\n",
       "budget_description    217596\n",
       "budget_amount         114565\n",
       "budget_currency       114565\n",
       "anio                       0\n",
       "dtype: int64"
      ]
     },
     "execution_count": 33,
     "metadata": {},
     "output_type": "execute_result"
    }
   ],
   "source": [
    "print(data_planning.shape[0])\n",
    "data_planning.isnull().sum()"
   ]
  },
  {
   "cell_type": "code",
   "execution_count": 35,
   "metadata": {},
   "outputs": [],
   "source": [
    "data_planning.drop(['budget_description'],axis=1,inplace=True)"
   ]
  },
  {
   "cell_type": "code",
   "execution_count": 36,
   "metadata": {},
   "outputs": [],
   "source": [
    "#corregir columna budget_id \n",
    "\n",
    "data_planning[\"budget_id\"]=data_planning[\"budget_id\"].apply(lambda x:str(x))\n"
   ]
  },
  {
   "cell_type": "code",
   "execution_count": 37,
   "metadata": {},
   "outputs": [],
   "source": [
    "\n",
    "data_planning.to_parquet('planning_hist.parquet', engine='pyarrow')  # o engine='fastparquet'"
   ]
  },
  {
   "cell_type": "markdown",
   "metadata": {},
   "source": [
    "#### Tender"
   ]
  },
  {
   "cell_type": "code",
   "execution_count": 38,
   "metadata": {},
   "outputs": [],
   "source": [
    "data_2020_tender=pd.read_excel(\"releases_2020.xlsx\",sheet_name='Tender').assign(anio=2020)\n",
    "data_2021_tender=pd.read_excel(\"releases_2021.xlsx\",sheet_name='Tender').assign(anio=2021)\n",
    "data_2022_tender=pd.read_excel(\"releases_2022.xlsx\",sheet_name='Tender').assign(anio=2022)\n",
    "data_2023_tender=pd.read_excel(\"releases_2023.xlsx\",sheet_name='Tender').assign(anio=2023)\n",
    "data_2024_tender=pd.read_excel(\"releases_2024.xlsx\",sheet_name='Tender').assign(anio=2024)"
   ]
  },
  {
   "cell_type": "code",
   "execution_count": 39,
   "metadata": {},
   "outputs": [],
   "source": [
    "data_tender=pd.concat([\n",
    "    data_2020_tender,\n",
    "    data_2021_tender,\n",
    "    data_2022_tender,\n",
    "    data_2023_tender,\n",
    "    data_2024_tender])"
   ]
  },
  {
   "cell_type": "code",
   "execution_count": 40,
   "metadata": {},
   "outputs": [
    {
     "name": "stdout",
     "output_type": "stream",
     "text": [
      "929178\n"
     ]
    },
    {
     "data": {
      "text/plain": [
       "ocid                                 0\n",
       "release_id                           0\n",
       "id                                   0\n",
       "title                                0\n",
       "description                          2\n",
       "status                               0\n",
       "procuringEntity_id                 318\n",
       "procuringEntity_name               318\n",
       "value_amount                    104604\n",
       "value_currency                  104604\n",
       "procurementMethod                    0\n",
       "procurementMethodDetails             0\n",
       "mainProcurementCategory         734472\n",
       "awardCriteria                   734472\n",
       "tenderPeriod_startDate          734472\n",
       "tenderPeriod_endDate            855193\n",
       "tenderPeriod_maxExtentDate      855193\n",
       "tenderPeriod_durationInDays     856763\n",
       "enquiryPeriod_startDate         734472\n",
       "enquiryPeriod_endDate           763357\n",
       "enquiryPeriod_maxExtentDate     763357\n",
       "enquiryPeriod_durationInDays    767785\n",
       "hasEnquiries                    801410\n",
       "eligibilityCriteria             839076\n",
       "awardPeriod_startDate           824574\n",
       "awardPeriod_endDate             734472\n",
       "awardPeriod_maxExtentDate       734472\n",
       "awardPeriod_durationInDays      829283\n",
       "numberOfTenderers               736493\n",
       "anio                                 0\n",
       "dtype: int64"
      ]
     },
     "execution_count": 40,
     "metadata": {},
     "output_type": "execute_result"
    }
   ],
   "source": [
    "print(data_tender.shape[0])\n",
    "data_tender.isnull().sum()"
   ]
  },
  {
   "cell_type": "code",
   "execution_count": null,
   "metadata": {},
   "outputs": [],
   "source": [
    "data_tender.drop([],axis=1,inplace=True)"
   ]
  },
  {
   "cell_type": "code",
   "execution_count": 41,
   "metadata": {},
   "outputs": [],
   "source": [
    "#corregir columna id\n",
    "\n",
    "data_tender[\"id\"]=data_tender[\"id\"].apply(lambda x:str(x))"
   ]
  },
  {
   "cell_type": "code",
   "execution_count": 42,
   "metadata": {},
   "outputs": [],
   "source": [
    "\n",
    "data_tender.to_parquet('tender_hist.parquet', engine='pyarrow')  # o engine='fastparquet'"
   ]
  },
  {
   "cell_type": "markdown",
   "metadata": {},
   "source": [
    "#### Award"
   ]
  },
  {
   "cell_type": "code",
   "execution_count": 43,
   "metadata": {},
   "outputs": [],
   "source": [
    "data_2020_award=pd.read_excel(\"releases_2020.xlsx\",sheet_name='Awards').assign(anio=2020)\n",
    "data_2021_award=pd.read_excel(\"releases_2021.xlsx\",sheet_name='Awards').assign(anio=2021)\n",
    "data_2022_award=pd.read_excel(\"releases_2022.xlsx\",sheet_name='Awards').assign(anio=2022)\n",
    "data_2023_award=pd.read_excel(\"releases_2023.xlsx\",sheet_name='Awards').assign(anio=2023)\n",
    "data_2024_award=pd.read_excel(\"releases_2024.xlsx\",sheet_name='Awards').assign(anio=2024)"
   ]
  },
  {
   "cell_type": "code",
   "execution_count": 46,
   "metadata": {},
   "outputs": [],
   "source": [
    "data_award=pd.concat([\n",
    "    data_2020_award,\n",
    "    data_2021_award,\n",
    "    data_2022_award,\n",
    "    data_2023_award,\n",
    "    data_2024_award])"
   ]
  },
  {
   "cell_type": "code",
   "execution_count": 47,
   "metadata": {},
   "outputs": [
    {
     "name": "stdout",
     "output_type": "stream",
     "text": [
      "924609\n"
     ]
    },
    {
     "data": {
      "text/plain": [
       "ocid                                  0\n",
       "release_id                            0\n",
       "id                                    5\n",
       "title                            924609\n",
       "description                      734477\n",
       "status                           208506\n",
       "date                             768910\n",
       "amount                               20\n",
       "currency                             20\n",
       "correctedValue_amount            924609\n",
       "correctedValue_currency          924609\n",
       "enteredValue_amount              924609\n",
       "enteredValue_currency            924609\n",
       "contractPeriod_startDate         905787\n",
       "contractPeriod_endDate           905787\n",
       "contractPeriod_maxExtentDate     924609\n",
       "contractPeriod_durationInDays    905800\n",
       "anio                                  0\n",
       "dtype: int64"
      ]
     },
     "execution_count": 47,
     "metadata": {},
     "output_type": "execute_result"
    }
   ],
   "source": [
    "print(data_award.shape[0])\n",
    "data_award.isnull().sum()"
   ]
  },
  {
   "cell_type": "code",
   "execution_count": 48,
   "metadata": {},
   "outputs": [],
   "source": [
    "data_award.drop([\"title\",\"correctedValue_amount\",\"correctedValue_currency\",\"enteredValue_amount\",\"enteredValue_currency\",\n",
    "\"contractPeriod_maxExtentDate\"],axis=1,inplace=True)"
   ]
  },
  {
   "cell_type": "code",
   "execution_count": 49,
   "metadata": {},
   "outputs": [],
   "source": [
    "#corregir columna descripcion\n",
    "\n",
    "data_award[\"description\"]=data_award[\"description\"].apply(lambda x:str(x))"
   ]
  },
  {
   "cell_type": "code",
   "execution_count": 50,
   "metadata": {},
   "outputs": [],
   "source": [
    "\n",
    "data_award.to_parquet('award_hist.parquet', engine='pyarrow',index=False)  # o engine='fastparquet'"
   ]
  },
  {
   "cell_type": "markdown",
   "metadata": {},
   "source": [
    "#### Contract"
   ]
  },
  {
   "cell_type": "code",
   "execution_count": 51,
   "metadata": {},
   "outputs": [],
   "source": [
    "data_2020_contract=pd.read_excel(\"releases_2020.xlsx\",sheet_name='Contracts').assign(anio=2020)\n",
    "data_2021_contract=pd.read_excel(\"releases_2021.xlsx\",sheet_name='Contracts').assign(anio=2021)\n",
    "data_2022_contract=pd.read_excel(\"releases_2022.xlsx\",sheet_name='Contracts').assign(anio=2022)\n",
    "data_2023_contract=pd.read_excel(\"releases_2023.xlsx\",sheet_name='Contracts').assign(anio=2023)\n",
    "data_2024_contract=pd.read_excel(\"releases_2024.xlsx\",sheet_name='Contracts').assign(anio=2024)"
   ]
  },
  {
   "cell_type": "code",
   "execution_count": 52,
   "metadata": {},
   "outputs": [],
   "source": [
    "data_contract=pd.concat([\n",
    "    data_2020_contract,\n",
    "    data_2021_contract,\n",
    "    data_2022_contract,\n",
    "    data_2023_contract,\n",
    "    data_2024_contract])"
   ]
  },
  {
   "cell_type": "code",
   "execution_count": 54,
   "metadata": {},
   "outputs": [
    {
     "name": "stdout",
     "output_type": "stream",
     "text": [
      "889466\n"
     ]
    },
    {
     "data": {
      "text/plain": [
       "ocid                                  0\n",
       "release_id                            0\n",
       "id                                    0\n",
       "awardID                               5\n",
       "title                            889466\n",
       "description                      889466\n",
       "status                                0\n",
       "contractPeriod_startDate         734477\n",
       "contractPeriod_endDate           734477\n",
       "contractPeriod_maxExtentDate     889466\n",
       "contractPeriod_durationInDays    734530\n",
       "amount                           734477\n",
       "currency                         734477\n",
       "dateSigned                       734478\n",
       "anio                                  0\n",
       "dtype: int64"
      ]
     },
     "execution_count": 54,
     "metadata": {},
     "output_type": "execute_result"
    }
   ],
   "source": [
    "print(data_contract.shape[0])\n",
    "data_contract.isnull().sum()"
   ]
  },
  {
   "cell_type": "code",
   "execution_count": 55,
   "metadata": {},
   "outputs": [],
   "source": [
    "data_contract.drop([\"title\",\"description\",\"contractPeriod_maxExtentDate\"],axis=1,inplace=True)"
   ]
  },
  {
   "cell_type": "code",
   "execution_count": 56,
   "metadata": {},
   "outputs": [],
   "source": [
    "\n",
    "data_contract.to_parquet('contract_hist.parquet', engine='pyarrow')  # o engine='fastparquet'"
   ]
  },
  {
   "cell_type": "code",
   "execution_count": null,
   "metadata": {},
   "outputs": [],
   "source": []
  },
  {
   "cell_type": "code",
   "execution_count": null,
   "metadata": {},
   "outputs": [],
   "source": []
  },
  {
   "cell_type": "code",
   "execution_count": null,
   "metadata": {},
   "outputs": [],
   "source": []
  },
  {
   "cell_type": "code",
   "execution_count": null,
   "metadata": {},
   "outputs": [],
   "source": []
  }
 ],
 "metadata": {
  "kernelspec": {
   "display_name": "base",
   "language": "python",
   "name": "python3"
  },
  "language_info": {
   "codemirror_mode": {
    "name": "ipython",
    "version": 3
   },
   "file_extension": ".py",
   "mimetype": "text/x-python",
   "name": "python",
   "nbconvert_exporter": "python",
   "pygments_lexer": "ipython3",
   "version": "3.9.7"
  }
 },
 "nbformat": 4,
 "nbformat_minor": 2
}
