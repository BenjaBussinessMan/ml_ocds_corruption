{
 "cells": [
  {
   "cell_type": "code",
   "execution_count": 0,
   "metadata": {
    "application/vnd.databricks.v1+cell": {
     "cellMetadata": {
      "byteLimit": 2048000,
      "implicitDf": true,
      "rowLimit": 10000
     },
     "inputWidgets": {},
     "nuid": "996a7898-427b-41ff-9087-1d837318f85c",
     "showTitle": true,
     "tableResultSettingsMap": {},
     "title": "Planning"
    }
   },
   "outputs": [],
   "source": [
    "%sql\n",
    "select count(distinct ocid) N\n",
    "from planning_hist\n",
    "\n",
    "\n",
    "\n",
    "select ocid,count(*) N\n",
    "from planning_hist\n",
    "group by ocid\n",
    "order by count(*) desc\n",
    "\n",
    "select *\n",
    "from planning_hist\n",
    "where ocid ='ocds-5wno2w-LS-GADMLA-2021-001-91040'"
   ]
  },
  {
   "cell_type": "code",
   "execution_count": 0,
   "metadata": {
    "application/vnd.databricks.v1+cell": {
     "cellMetadata": {
      "byteLimit": 2048000,
      "implicitDf": true,
      "rowLimit": 10000
     },
     "inputWidgets": {},
     "nuid": "b944c905-a504-4a30-b089-87a8b362aefd",
     "showTitle": true,
     "tableResultSettingsMap": {},
     "title": "Tender"
    }
   },
   "outputs": [],
   "source": [
    "%sql\n",
    "select anio,count(*)\n",
    "from tender_hist\n",
    "group by anio\n",
    "\n",
    "\n",
    "select ocid,count(*)\n",
    "from tender_hist\n",
    "group by ocid \n",
    "order by count(*) desc\n",
    "\n",
    "\n",
    "select *\n",
    "from tender_hist\n",
    "where ocid ='ocds-5wno2w-LS-GADMLA-2021-001-91040'\n"
   ]
  },
  {
   "cell_type": "code",
   "execution_count": 0,
   "metadata": {
    "application/vnd.databricks.v1+cell": {
     "cellMetadata": {
      "byteLimit": 2048000,
      "implicitDf": true,
      "rowLimit": 10000
     },
     "inputWidgets": {},
     "nuid": "cdbdf8bd-7faa-4697-91bf-d4ed8d02e952",
     "showTitle": true,
     "tableResultSettingsMap": {},
     "title": "Award"
    }
   },
   "outputs": [],
   "source": [
    "%sql\n",
    "select ocid,count(*)\n",
    "from award_hist\n",
    "group by ocid\n",
    "order by count(*) desc\n",
    "\n",
    "\n",
    "select *\n",
    "from award_hist\n",
    "where ocid ='ocds-5wno2w-LS-GADMLA-2021-001-91040'"
   ]
  },
  {
   "cell_type": "code",
   "execution_count": 0,
   "metadata": {
    "application/vnd.databricks.v1+cell": {
     "cellMetadata": {
      "byteLimit": 2048000,
      "implicitDf": true,
      "rowLimit": 10000
     },
     "inputWidgets": {},
     "nuid": "386e32b6-8be6-42ff-866b-55795b10a1de",
     "showTitle": false,
     "tableResultSettingsMap": {},
     "title": ""
    }
   },
   "outputs": [],
   "source": [
    "%sql\n",
    "select count(distinct ocid) N\n",
    "from contract_hist\n",
    "group by ocid\n",
    "order by count(*) desc\n",
    "\n",
    "\n",
    "\n",
    "select *\n",
    "from contract_hist\n",
    "where ocid ='ocds-5wno2w-LS-GADMLA-2021-001-91040'"
   ]
  },
  {
   "cell_type": "code",
   "execution_count": 0,
   "metadata": {
    "application/vnd.databricks.v1+cell": {
     "cellMetadata": {},
     "inputWidgets": {},
     "nuid": "9e3be146-73d1-4bf1-9b0d-3f78843f79b2",
     "showTitle": false,
     "tableResultSettingsMap": {},
     "title": ""
    }
   },
   "outputs": [],
   "source": []
  }
 ],
 "metadata": {
  "application/vnd.databricks.v1+notebook": {
   "computePreferences": null,
   "dashboards": [],
   "environmentMetadata": {
    "base_environment": "",
    "environment_version": "2"
   },
   "language": "sql",
   "notebookMetadata": {
    "mostRecentlyExecutedCommandWithImplicitDF": {
     "commandId": -1,
     "dataframes": [
      "_sqldf"
     ]
    },
    "pythonIndentUnit": 2
   },
   "notebookName": "Fuentes OCID",
   "widgets": {}
  },
  "language_info": {
   "name": "sql"
  }
 },
 "nbformat": 4,
 "nbformat_minor": 0
}
